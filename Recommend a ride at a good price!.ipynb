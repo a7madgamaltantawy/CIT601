{
 "cells": [
  {
   "cell_type": "markdown",
   "metadata": {},
   "source": [
    "\n",
    "\n",
    "<div style='float: right;'>\n",
    "    <br/>\n",
    "    <a href='https://logosmarken.com/wp-content/uploads/2020/05/Uber-Zeichen-2018-Heute.jpg' target='_blank'>\n",
    "    <img style=\"float: center;\" src='https://upload.wikimedia.org/wikipedia/commons/thumb/5/58/Uber_logo_2018.svg/2560px-Uber_logo_2018.svg.png' alt=\"Uber\" width=\"200\" height=\"300\"/>\n",
    "    <br/>\n",
    "    </a>\n",
    "</div>\n",
    "\n",
    "\n",
    "<left> <h3> Ahmed Tantawy </h3> </left>\n",
    "\n",
    "\n"
   ]
  },
  {
   "cell_type": "markdown",
   "metadata": {},
   "source": [
    "## Part 1\n",
    "\n",
    "### Outline\n",
    "\n",
    "The goal of the first part of this case study is to obtain a basic pricing algorithm similar to what uber does. The designed algorithm will take coordinates of an origin as well as a destination as input parameters and return the price for the ride. We first define some basic parameters for pricing, e.g. a base price per ride and a minute price depending on the travel time. Next, we calculate the estimated travel time between the given two coordinates. A traffic density model is used to define a traffic weight for working days depending on the hour the user wants to take the ride. For special weather conditions like cold, snowy, or rainy weather, the prices will go up. Therefore, the weather forecast is taken into consideration as well. Last, based on the availability of uber drivers, we add a factor to account for a potential driver scarcity. The final step is to combine the basic pricing with the general duration and add all applicable weights to get a price per ride.\n",
    "\n",
    "\n",
    "### Disclaimer\n",
    "\n",
    "During the whole  calculation, we asume that uber is used inside cities to get from A to B. Prices for rides longer than 20 kilometers are very likely to be very high. It might be a good idea to build another pricing model for long-distance rides to better account for this. Nevertheless, for this case study it is assumed that inner-city rides are the main focus of uber.\n",
    "\n",
    "The pricing is tested using coordinates in Hamburg. Weights and fees are set so that pricing makes sense in this big city. It can be the case that prices are too high or too low for other cities where traffic is different. All weights and fees can easily be changed to adapt to another city's situation without changing the logic of the algorithm."
   ]
  },
  {
   "cell_type": "markdown",
   "metadata": {},
   "source": [
    "## Table of Contents:\n",
    "\n",
    "1. [Basic Assumptions](#basic)\n",
    "2. [Travel Time](#traveltime)\n",
    "3. [Driver Scarsity](#drivers)\n",
    "4. [Traffic Density](#traffic)\n",
    "5. [Weather Data](#weather)\n",
    "6. [Pricing Algorithm](#pricing)"
   ]
  },
  {
   "cell_type": "markdown",
   "metadata": {},
   "source": [
    "### 1. Basic Assumptions\n",
    "\n",
    "Similar to normal taxi prices, we define a **base price** as well as a **minute price** depending on the travel duration:"
   ]
  },
  {
   "cell_type": "code",
   "execution_count": 1,
   "metadata": {},
   "outputs": [
    {
     "name": "stdout",
     "output_type": "stream",
     "text": [
      "3.0\n"
     ]
    }
   ],
   "source": [
    "basic_fee = 3.0\n",
    "minute_price = 0.8\n",
    "print(basic_fee)"
   ]
  },
  {
   "cell_type": "markdown",
   "metadata": {},
   "source": [
    "### 2. Travel Time <a class=\"anchor\" id=\"traveltime\"/>\n",
    "\n",
    "The first part of our pricing model consists of the driving time between two coordinates. We use the **Open Source Routing Machine (OSRM)** for this purpose (see [project-osrm.org](http://project-osrm.org/) and [this](https://github.com/Project-OSRM/osrm-backend/blob/master/docs/http.md) github project).\n",
    "\n",
    "basic outline:\n",
    "\n",
    "url = 'http://router.project-osrm.org'\n",
    "\n",
    "GET /{service}/{version}/{profile}/{coordinates}?option=value&option=value\n",
    "\n",
    "\n",
    "We make use of the following two python libraries:\n",
    "* **requests** for the GET request\n",
    "* **json** to transform the response"
   ]
  },
  {
   "cell_type": "code",
   "execution_count": 1,
   "metadata": {},
   "outputs": [],
   "source": [
    "import requests as req\n",
    "import json"
   ]
  },
  {
   "cell_type": "markdown",
   "metadata": {},
   "source": [
    "### get request\n",
    "\n",
    "\n",
    "First, we build the url to make the get request:\n",
    "* The **service** type \"table\" returns the duration (and distance if specified) of the fastest route between all pairs of supplied coordinates.\n",
    "* The API **version** is v1.\n",
    "* The **travel mode (profile)** is driving.\n",
    "* The **coordinates** will later be defined as input parameters of the algorithm. They are not preset in the url.\n",
    "* In the **options** of the request, we define the first input coordinates as **source**.\n",
    "* We want to get the duration and distance as response, so we define this in the **annotations**.\n",
    "\n",
    "Then, we perform the actual get request and transform the response to duration in minutes.\n",
    "\n",
    "Note that the outputs are lists with the distances / durations between source and source / destination. Thus, the first list entry is **0.0** in both cases and we only look at the second list element, respectively.\n",
    "\n",
    "**Remark:** The API seems to be less accurate for short distances. During testing, we noticed that the duration in minutes for rides under 10 km in Hamburg is too short. We thus added an additional factor to the duration in case of a distance under 10 kilometers."
   ]
  },
  {
   "cell_type": "code",
   "execution_count": 2,
   "metadata": {},
   "outputs": [],
   "source": [
    "def get_duration_in_min(orig, dest):\n",
    "    \"\"\"\n",
    "    :param orig: origin as coordinates in the form \"xx.xxxxxx,yy.yyyyyy\" (\"lon,lat\")\n",
    "    :param dest: destination as coordinates in the form \"xx.xxxxxx,yy.yyyyyy\" (\"lon,lat\")\n",
    "    :return: duration in minutes to drive from source to destination\n",
    "    \"\"\"\n",
    "    \n",
    "    # set variables for get request\n",
    "    service = \"table\"\n",
    "    version = \"v1\"\n",
    "    profile = \"driving\"\n",
    "    optional = \"sources=0&annotations=duration,distance\"\n",
    "\n",
    "    # put variables in url\n",
    "    osrm_url = f\"http://router.project-osrm.org/{service}/{version}/{profile}/{{origin}};{{destination}}?{optional}\"\n",
    "\n",
    "    # get request with input coordinates returns the duration(s) in seconds and distance(s) in meters\n",
    "    response = req.get(url=osrm_url.format(origin=orig, destination=dest))\n",
    "    \n",
    "    distances_m = json.loads(response.text).get(\"distances\")[0]\n",
    "    \n",
    "    # transform durations to minutes\n",
    "    durations_sec = json.loads(response.text).get(\"durations\")[0]\n",
    "    durations_min = [round(x/60,2) for x in durations_sec]\n",
    "    \n",
    "    # return first list entries to only get distance and duration between origin and destination\n",
    "    # add weight to account for inaccuracy of response for short rides\n",
    "    duration = durations_min[1] * 1.4 if distances_m[1] < 10000 else durations_min[1] \n",
    "    return duration"
   ]
  },
  {
   "cell_type": "markdown",
   "metadata": {},
   "source": [
    "### Caution\n",
    "\n",
    "**Longitude** is the measurement **east or west** of the prime meridian ([nationalgeographic](https://www.nationalgeographic.org/encyclopedia/latitude)).\n",
    "\n",
    "\n",
    "**Latitude** is the measurement of distance **north or south** of the Equator ([nationalgeographic](https://www.nationalgeographic.org/encyclopedia/longitude)).\n",
    "\n",
    "if you search for a address in Germany on Google Maps, the respective coordinates will be of the form **(Lat, Lon)**:\n",
    "\n",
    "e.g. for \"WWU\" it is 51.95945106021929N, 7.625524547448689E.\n",
    "\n",
    "The API endpoints takes coordinates in the form **(Lon, Lat)**, so that any search from Google Maps to test the API has to be swapped before use. (Otherwise, you most likely end up in the Indian Ocean!)\n",
    "\n"
   ]
  },
  {
   "cell_type": "code",
   "execution_count": 3,
   "metadata": {},
   "outputs": [
    {
     "data": {
      "text/plain": [
       "9.17"
      ]
     },
     "execution_count": 3,
     "metadata": {},
     "output_type": "execute_result"
    }
   ],
   "source": [
    "# testing\n",
    "\n",
    "# Hamburg\n",
    "hh_hbf = \"10.00619701611818,53.55214525925354\"\n",
    "zoo = \"9.938501976064497,53.5967893210501\"\n",
    "kiez = \"9.962571483020044,53.54969726567535\"\n",
    "elphi = \"9.984683128972797,53.541634912662126\"\n",
    "stadtpark = \"10.015518238726033,53.59710491208121\"\n",
    "\n",
    "orig = hh_hbf\n",
    "dest = kiez\n",
    "\n",
    "get_duration_in_min(orig, dest)"
   ]
  },
  {
   "cell_type": "markdown",
   "metadata": {},
   "source": [
    "### 3. Driver Scarcity <a class=\"anchor\" id=\"drivers\"/>\n",
    "\n",
    "If few drivers are available, prices for a ride will go up. As we do not have current data on drivers available, we add a random variable to account for the scarcity of drivers.\n",
    "\n",
    "We first define different potential weights:"
   ]
  },
  {
   "cell_type": "code",
   "execution_count": 4,
   "metadata": {},
   "outputs": [],
   "source": [
    "import numpy as np\n",
    "\n",
    "# use around to round the entries in the array, otherwise the list contains floats with 16 decimal places\n",
    "scarcity = list(np.around(np.arange(0.7, 1.3, 0.05),2))"
   ]
  },
  {
   "cell_type": "markdown",
   "metadata": {},
   "source": [
    "Next, we test how to get a scarcity weight from this list randomly. We will use this approch later on to add a scarcity weight."
   ]
  },
  {
   "cell_type": "code",
   "execution_count": 5,
   "metadata": {},
   "outputs": [
    {
     "data": {
      "text/plain": [
       "1.2"
      ]
     },
     "execution_count": 5,
     "metadata": {},
     "output_type": "execute_result"
    }
   ],
   "source": [
    "import random\n",
    "\n",
    "random.choice(scarcity)"
   ]
  },
  {
   "cell_type": "markdown",
   "metadata": {},
   "source": [
    "### 4. Traffic Density <a class=\"anchor\" id=\"traffic\"/>\n",
    "\n",
    "For normal working days (mon - fri, no holiday), we now define time windows to account for the traffic density. Assumptions for any bigger city (where uber most likely operates) are as follows:\n",
    "\n",
    "00:00 - 05:59: low density\n",
    "\n",
    "06:00 - 09.59: high density (rush hour)\n",
    "\n",
    "10:00 - 14:59: average to high density\n",
    "\n",
    "15:00 - 18:59: high density (rush hour)\n",
    "\n",
    "19:00 - 19:59: average to high density\n",
    "\n",
    "20:00 - 21:59: average density\n",
    "\n",
    "22:00 - 23:59: low density"
   ]
  },
  {
   "cell_type": "markdown",
   "metadata": {},
   "source": [
    "To know when to apply these weights, we first want to check if today (or any input date in our final algorithm) is a working day. We make use of the **datetime** library here."
   ]
  },
  {
   "cell_type": "code",
   "execution_count": 6,
   "metadata": {},
   "outputs": [],
   "source": [
    "from datetime import datetime\n",
    "\n",
    "def is_weekday(req_timestamp = None, input_format = \"%Y-%m-%d %H:%M\"):\n",
    "    \"\"\"\n",
    "    :param req_timestamp: OTIONAL timestamp as string in the given time format\n",
    "    :param input_format: format of the input timestamp\n",
    "    :return: True if working day, False otherwise\n",
    "    \"\"\"\n",
    "    day = datetime.now() if not req_timestamp else datetime.strptime(req_timestamp, input_format)\n",
    "    return 0 < day.weekday() < 5"
   ]
  },
  {
   "cell_type": "code",
   "execution_count": 7,
   "metadata": {},
   "outputs": [
    {
     "name": "stdout",
     "output_type": "stream",
     "text": [
      "True\n",
      "False\n"
     ]
    }
   ],
   "source": [
    "#testing\n",
    "print(is_weekday())\n",
    "print(is_weekday(\"2021-12-25 13:00\"))"
   ]
  },
  {
   "cell_type": "markdown",
   "metadata": {},
   "source": [
    "We next define traffic density weights as follows:"
   ]
  },
  {
   "cell_type": "code",
   "execution_count": 8,
   "metadata": {},
   "outputs": [],
   "source": [
    "low = 1\n",
    "avg = 1.1\n",
    "avg_high = 1.3\n",
    "high = 1.5\n",
    "\n",
    "weights = [low] * 6 + [high] * 4 + [avg_high] * 5 + [high] * 4 + [avg_high] * 1 + [avg] * 2 + [low] * 2"
   ]
  },
  {
   "cell_type": "markdown",
   "metadata": {},
   "source": [
    "We visualize our traffic density model to get a better impression here:"
   ]
  },
  {
   "cell_type": "code",
   "execution_count": 9,
   "metadata": {},
   "outputs": [],
   "source": [
    "import numpy as np\n",
    "import pandas as pd\n",
    "import matplotlib.pyplot as plt\n",
    "import seaborn as sns"
   ]
  },
  {
   "cell_type": "code",
   "execution_count": 10,
   "metadata": {
    "scrolled": true
   },
   "outputs": [
    {
     "data": {
      "image/png": "[encoded data removed]",
      "text/plain": [
       "<Figure size 720x360 with 1 Axes>"
      ]
     },
     "metadata": {
      "needs_background": "light"
     },
     "output_type": "display_data"
    }
   ],
   "source": [
    "# from https://stackoverflow.com/questions/36271302/changing-color-scale-in-seaborn-bar-plot:\n",
    "def colors_from_values(values, palette_name):\n",
    "    # normalize the values to range [0, 1]\n",
    "    normalized = (values - min(values)) / (max(values) - min(values))\n",
    "    # convert to indices\n",
    "    indices = np.round(normalized * (len(values) - 1)).astype(np.int32)\n",
    "    # use the indices to get the colors\n",
    "    palette = sns.color_palette(palette_name, len(values))\n",
    "    return np.array(palette).take(indices, axis=0)\n",
    "\n",
    "# define df for weights and hours per normal working day\n",
    "hours = np.arange(24)\n",
    "data = pd.DataFrame(list(zip(hours, weights)), columns =['Hour', 'Weight'])\n",
    "\n",
    "# define the actual plot\n",
    "plt.subplots(figsize=(10,5))\n",
    "ax = sns.barplot(x=data[\"Hour\"], y=data[\"Weight\"], palette=colors_from_values(np.array(weights), \"RdYlGn_r\"))\n",
    "\n",
    "# set title and y ticks\n",
    "ax.set_title('Traffic Density Model')\n",
    "ax.set_ylim([low-0.1, high+0.1])\n",
    "ax.set_yticks((low, avg, avg_high, high))\n",
    "\n",
    "plt.show()"
   ]
  },
  {
   "cell_type": "markdown",
   "metadata": {},
   "source": [
    "With this model, we define a function to obtain the current traffic's density weight:"
   ]
  },
  {
   "cell_type": "code",
   "execution_count": 11,
   "metadata": {},
   "outputs": [],
   "source": [
    "# input: \"2021-12-28 13:30\"\n",
    "def get_traffic_density_weight(req_timestamp = None, input_format = \"%Y-%m-%d %H:%M\"):\n",
    "    \"\"\"\n",
    "    :param req_timestamp: OTIONAL timestamp as string in the given time format\n",
    "    :param input_format: format of the input timestamp\n",
    "    :return: the traffic density weight for the given timestamp (float)\n",
    "    \"\"\"\n",
    "    if not req_timestamp:\n",
    "        # take now and transform it to string of format \n",
    "        hour = int(datetime.strftime(datetime.utcnow(), format(\"%H\")))\n",
    "    else:\n",
    "        hour = int(datetime.strptime(req_timestamp, input_format).strftime(\"%H\"))\n",
    "\n",
    "    return weights[hour]"
   ]
  },
  {
   "cell_type": "code",
   "execution_count": 12,
   "metadata": {},
   "outputs": [
    {
     "name": "stdout",
     "output_type": "stream",
     "text": [
      "1\n",
      "1.3\n"
     ]
    }
   ],
   "source": [
    "# testing\n",
    "print(get_traffic_density_weight(\"2021-12-28 05:40\"))\n",
    "print(get_traffic_density_weight())"
   ]
  },
  {
   "cell_type": "markdown",
   "metadata": {},
   "source": [
    "### 5. Weather Data <a class=\"anchor\" id=\"weather\"/>\n",
    "\n",
    "We also want to include weather data for the city in which the uber ride is requested. We use the [One Call API](https://openweathermap.org/api/one-call-api) from [Open Weather Map](https://openweathermap.org/api) for this purpose. The API is free to use as long as quotas are met, but we have to sign up to get an API key first. An active api key is included in the code.\n",
    "\n",
    "We assume that for rainy hours, the traffic as well as demand for uber rides will increase slightly. For cold and icy hours (under 0 degrees celcius or snow), the traffic and uber demand will increase even more. We will include additional weights in our pricing algorithm depending on this weather forecast."
   ]
  },
  {
   "cell_type": "markdown",
   "metadata": {},
   "source": [
    "### get request\n",
    "\n",
    "basic outline for the One Call API:\n",
    "\n",
    "url = 'https://api.openweathermap.org'\n",
    "\n",
    "GET /data/2.5/onecall?lat={lat}&lon={lon}&exclude={exclude}&units={units}&appid={my_key}\n",
    "\n",
    "We build the url to make the get request:\n",
    "* We need **lat** and **lon** for the city of interest.\n",
    "* The API response contains data on several levels per default. We only need hourly data and thus **exclude** the rest.\n",
    "* We want to get the response in metric **units**.\n",
    "\n",
    "Next, we perform the actual get request. We only need specific data from the response here. Hourly data for the next 48 hours\n",
    "* unix timestamp **in UTC** of every full hour\n",
    "* temperature in degrees celcius\n",
    "* main weather description, e.g. \"clear\", \"snow\", \"rain\"\n",
    "\n",
    "\n",
    "#### Remark\n",
    "\n",
    "This API does not work via a VPN-Connection."
   ]
  },
  {
   "cell_type": "code",
   "execution_count": 13,
   "metadata": {},
   "outputs": [],
   "source": [
    "import requests as req\n",
    "import json"
   ]
  },
  {
   "cell_type": "code",
   "execution_count": 14,
   "metadata": {},
   "outputs": [],
   "source": [
    "# I excluded the api key before I uploaded this notebook to the learn web ;)\n",
    "\n",
    "def get_weather_forecast(coordinates, api_key = \"xxx\"):\n",
    "    \"\"\"\n",
    "    :param coordinates: coordinates of the location for the weather forcast in the form \"xx.xxxxxx,yy.yyyyyy\" (\"lon,lat\")\n",
    "    :param api_key: api key to make get request to weather forecast api (author's personal active api key)\n",
    "    :return: a dict with\n",
    "        keys: next 48 full hour timestamps in UTC and\n",
    "        values: List with forecasted temperature and main weather description, e.g. {1640696400: [3.34, 'Clear'], ...}\n",
    "    \"\"\"\n",
    "    \n",
    "    lon, lat = coordinates.split(\",\")\n",
    "    \n",
    "    exclude = \"current,minutely,daily\"\n",
    "    units = \"metric\"\n",
    "\n",
    "    weather_url = f\"https://api.openweathermap.org/data/2.5/onecall?lat={lat}&lon={lon}&exclude={exclude}&units={units}&appid={api_key}\"\n",
    "    response = req.get(url=weather_url)\n",
    "\n",
    "    # dict; key: unix timestamp utc, value: list with temperature, main weather\n",
    "    return {x.get(\"dt\"): [x.get(\"temp\"), x.get(\"weather\")[0].get(\"main\")] for x in json.loads(response.text).get(\"hourly\")}\n"
   ]
  },
  {
   "cell_type": "code",
   "execution_count": 23,
   "metadata": {},
   "outputs": [
    {
     "ename": "TypeError",
     "evalue": "'NoneType' object is not iterable",
     "output_type": "error",
     "traceback": [
      "\u001b[0;31m---------------------------------------------------------------------------\u001b[0m",
      "\u001b[0;31mTypeError\u001b[0m                                 Traceback (most recent call last)",
      "\u001b[0;32m/var/folders/kz/ns20rsns4_jbby8d_q1zbplr0000gn/T/ipykernel_55885/529839915.py\u001b[0m in \u001b[0;36m<module>\u001b[0;34m\u001b[0m\n\u001b[1;32m      4\u001b[0m \u001b[0mcoordinates\u001b[0m \u001b[0;34m=\u001b[0m \u001b[0;34m\"7.625524547448689,51.95945106021929\"\u001b[0m\u001b[0;34m\u001b[0m\u001b[0;34m\u001b[0m\u001b[0m\n\u001b[1;32m      5\u001b[0m \u001b[0;34m\u001b[0m\u001b[0m\n\u001b[0;32m----> 6\u001b[0;31m \u001b[0mweather_hourly\u001b[0m \u001b[0;34m=\u001b[0m \u001b[0mget_weather_forecast\u001b[0m\u001b[0;34m(\u001b[0m\u001b[0mcoordinates\u001b[0m\u001b[0;34m=\u001b[0m\u001b[0mcoordinates\u001b[0m\u001b[0;34m)\u001b[0m\u001b[0;34m\u001b[0m\u001b[0;34m\u001b[0m\u001b[0m\n\u001b[0m\u001b[1;32m      7\u001b[0m \u001b[0;34m\u001b[0m\u001b[0m\n\u001b[1;32m      8\u001b[0m \u001b[0;31m#dict(list(weather_hourly.items())[0:3])\u001b[0m\u001b[0;34m\u001b[0m\u001b[0;34m\u001b[0m\u001b[0m\n",
      "\u001b[0;32m/var/folders/kz/ns20rsns4_jbby8d_q1zbplr0000gn/T/ipykernel_55885/4168655412.py\u001b[0m in \u001b[0;36mget_weather_forecast\u001b[0;34m(coordinates, api_key)\u001b[0m\n\u001b[1;32m     19\u001b[0m \u001b[0;34m\u001b[0m\u001b[0m\n\u001b[1;32m     20\u001b[0m     \u001b[0;31m# dict; key: unix timestamp utc, value: list with temperature, main weather\u001b[0m\u001b[0;34m\u001b[0m\u001b[0;34m\u001b[0m\u001b[0m\n\u001b[0;32m---> 21\u001b[0;31m     \u001b[0;32mreturn\u001b[0m \u001b[0;34m{\u001b[0m\u001b[0mx\u001b[0m\u001b[0;34m.\u001b[0m\u001b[0mget\u001b[0m\u001b[0;34m(\u001b[0m\u001b[0;34m\"dt\"\u001b[0m\u001b[0;34m)\u001b[0m\u001b[0;34m:\u001b[0m \u001b[0;34m[\u001b[0m\u001b[0mx\u001b[0m\u001b[0;34m.\u001b[0m\u001b[0mget\u001b[0m\u001b[0;34m(\u001b[0m\u001b[0;34m\"temp\"\u001b[0m\u001b[0;34m)\u001b[0m\u001b[0;34m,\u001b[0m \u001b[0mx\u001b[0m\u001b[0;34m.\u001b[0m\u001b[0mget\u001b[0m\u001b[0;34m(\u001b[0m\u001b[0;34m\"weather\"\u001b[0m\u001b[0;34m)\u001b[0m\u001b[0;34m[\u001b[0m\u001b[0;36m0\u001b[0m\u001b[0;34m]\u001b[0m\u001b[0;34m.\u001b[0m\u001b[0mget\u001b[0m\u001b[0;34m(\u001b[0m\u001b[0;34m\"main\"\u001b[0m\u001b[0;34m)\u001b[0m\u001b[0;34m]\u001b[0m \u001b[0;32mfor\u001b[0m \u001b[0mx\u001b[0m \u001b[0;32min\u001b[0m \u001b[0mjson\u001b[0m\u001b[0;34m.\u001b[0m\u001b[0mloads\u001b[0m\u001b[0;34m(\u001b[0m\u001b[0mresponse\u001b[0m\u001b[0;34m.\u001b[0m\u001b[0mtext\u001b[0m\u001b[0;34m)\u001b[0m\u001b[0;34m.\u001b[0m\u001b[0mget\u001b[0m\u001b[0;34m(\u001b[0m\u001b[0;34m\"hourly\"\u001b[0m\u001b[0;34m)\u001b[0m\u001b[0;34m}\u001b[0m\u001b[0;34m\u001b[0m\u001b[0;34m\u001b[0m\u001b[0m\n\u001b[0m",
      "\u001b[0;31mTypeError\u001b[0m: 'NoneType' object is not iterable"
     ]
    }
   ],
   "source": [
    "# testing\n",
    "\n",
    "# WWU\n",
    "coordinates = \"7.625524547448689,51.95945106021929\"\n",
    "\n",
    "weather_hourly = get_weather_forecast(coordinates=coordinates)\n",
    "\n",
    "#dict(list(weather_hourly.items())[0:3])"
   ]
  },
  {
   "cell_type": "markdown",
   "metadata": {},
   "source": [
    "Before we can use this weather forecast information in our pricing algorithm, we have to calculate the utc timestamp of a request time. More specific, we take the request time for the ride (e.g. \"now\"), round it to the next full hour and obtain the unix timestamp as integer in UTC:"
   ]
  },
  {
   "cell_type": "code",
   "execution_count": 24,
   "metadata": {},
   "outputs": [],
   "source": [
    "import time\n",
    "from datetime import datetime, timedelta\n",
    "from dateutil import tz\n",
    "import calendar\n",
    "\n",
    "\n",
    "def get_utc_timestamp_next_full_hour(req_timestamp = None, input_format = \"%Y-%m-%d %H:%M\", input_tz = 'Europe/Paris'):\n",
    "    \"\"\"\n",
    "    :param req_timestamp: OPTIONAL date to check as string of input_format, set to \"now\" if not defined\n",
    "    :param input_format: format of the input timestamp\n",
    "    :param input_tz: timezone of the input timestamp\n",
    "    :return: unix utc timestamp as int\n",
    "    \"\"\"\n",
    "    if not req_timestamp:\n",
    "        req_timestamp = datetime.utcnow()\n",
    "    else:\n",
    "        to_zone = tz.gettz('UTC')\n",
    "        from_zone = tz.gettz(input_tz)\n",
    "        \n",
    "        # set zone to UTC\n",
    "        req_timestamp = datetime.strptime(req_timestamp, input_format).replace(tzinfo=from_zone)\n",
    "\n",
    "        # Convert time zone\n",
    "        req_timestamp = req_timestamp.astimezone(to_zone)\n",
    "        \n",
    "    # add one hour and leave out the minutes and seconds, then convert to datetime again\n",
    "    next_hour = datetime.strptime((req_timestamp + timedelta(hours=1)).strftime(\"%Y-%m-%d %H:00\"), input_format)\n",
    "    \n",
    "    return calendar.timegm(next_hour.utctimetuple())\n"
   ]
  },
  {
   "cell_type": "code",
   "execution_count": 25,
   "metadata": {},
   "outputs": [
    {
     "name": "stdout",
     "output_type": "stream",
     "text": [
      "1664373600\n",
      "1640710800\n"
     ]
    }
   ],
   "source": [
    "#testing\n",
    "print(get_utc_timestamp_next_full_hour())\n",
    "print(get_utc_timestamp_next_full_hour(\"2021-12-28 17:05\"))"
   ]
  },
  {
   "cell_type": "markdown",
   "metadata": {},
   "source": [
    "We now can define a function that takes the weather forecast dict and utc timestamp as input, checks the weather conditions provided in the dict value, and returns a weather factor. We assume that for degrees under the freezing point or snow, prices increase by 10 percent. During rain, prices increase by 5 percent."
   ]
  },
  {
   "cell_type": "code",
   "execution_count": 26,
   "metadata": {},
   "outputs": [],
   "source": [
    "# input unix_timestamp_utc: 1640696400\n",
    "def get_weather_weight(unix_timestamp_utc, forecast):\n",
    "    \"\"\"\n",
    "    :param unix_timestamp_utc: unix timestamp in utc timezone\n",
    "    :param forecast: dict with weather forecast for next 48 hours\n",
    "    return: weather weight (float)\n",
    "    \"\"\"\n",
    "    try:\n",
    "        current_weather = forecast[unix_timestamp_utc]\n",
    "    except KeyError:\n",
    "        # entry not in forecast, thus has to be before or later and we don't have any weather info\n",
    "        return  1\n",
    "    \n",
    "    # special weather conditions\n",
    "    if current_weather[0] < 0 or current_weather[1] == 'Snow':\n",
    "        return 1.1 # 10 percent increase\n",
    "    if current_weather[1] == 'Rain':\n",
    "        return 1.05 # 5 percent increase\n",
    "        # normal weather conditions\n",
    "    return 1\n"
   ]
  },
  {
   "cell_type": "code",
   "execution_count": 27,
   "metadata": {},
   "outputs": [
    {
     "ename": "NameError",
     "evalue": "name 'weather_hourly' is not defined",
     "output_type": "error",
     "traceback": [
      "\u001b[0;31m---------------------------------------------------------------------------\u001b[0m",
      "\u001b[0;31mNameError\u001b[0m                                 Traceback (most recent call last)",
      "\u001b[0;32m/var/folders/kz/ns20rsns4_jbby8d_q1zbplr0000gn/T/ipykernel_55885/3272376449.py\u001b[0m in \u001b[0;36m<module>\u001b[0;34m\u001b[0m\n\u001b[1;32m      1\u001b[0m \u001b[0;31m# testing\u001b[0m\u001b[0;34m\u001b[0m\u001b[0;34m\u001b[0m\u001b[0m\n\u001b[1;32m      2\u001b[0m \u001b[0mutc_hour_now\u001b[0m \u001b[0;34m=\u001b[0m \u001b[0mget_utc_timestamp_next_full_hour\u001b[0m\u001b[0;34m(\u001b[0m\u001b[0;34m)\u001b[0m\u001b[0;34m\u001b[0m\u001b[0;34m\u001b[0m\u001b[0m\n\u001b[0;32m----> 3\u001b[0;31m \u001b[0mget_weather_weight\u001b[0m\u001b[0;34m(\u001b[0m\u001b[0munix_timestamp_utc\u001b[0m\u001b[0;34m=\u001b[0m\u001b[0mutc_hour_now\u001b[0m\u001b[0;34m,\u001b[0m \u001b[0mforecast\u001b[0m\u001b[0;34m=\u001b[0m\u001b[0mweather_hourly\u001b[0m\u001b[0;34m)\u001b[0m\u001b[0;34m\u001b[0m\u001b[0;34m\u001b[0m\u001b[0m\n\u001b[0m",
      "\u001b[0;31mNameError\u001b[0m: name 'weather_hourly' is not defined"
     ]
    }
   ],
   "source": [
    "# testing\n",
    "utc_hour_now = get_utc_timestamp_next_full_hour()\n",
    "get_weather_weight(unix_timestamp_utc=utc_hour_now, forecast=weather_hourly)\n"
   ]
  },
  {
   "cell_type": "markdown",
   "metadata": {},
   "source": [
    "### 6. Pricing Algorithm <a class=\"anchor\" id=\"pricing\"/>"
   ]
  },
  {
   "cell_type": "markdown",
   "metadata": {},
   "source": [
    "We now combine our intermediate results to define a pricing algorithm which accounts for\n",
    "* pure duration of the ride\n",
    "* driver scarcity\n",
    "* traffic density weights for working days\n",
    "* current weather forecast"
   ]
  },
  {
   "cell_type": "code",
   "execution_count": 28,
   "metadata": {},
   "outputs": [
    {
     "name": "stdout",
     "output_type": "stream",
     "text": [
      "2022-01-01 14:00 2022-09-30 13:00:00\n"
     ]
    }
   ],
   "source": [
    "input_format = \"%Y-%m-%d %H:%M\"\n",
    "start = \"2021-12-30 16:00\"\n",
    "ende = datetime.strptime((datetime.utcnow() + timedelta(hours=48)).strftime(\"%Y-%m-%d %H:00\"), input_format)\n",
    "start = (datetime.strptime(start, input_format) + timedelta(hours=46)).strftime(\"%Y-%m-%d %H:00\")\n",
    "print(start, ende)"
   ]
  },
  {
   "cell_type": "code",
   "execution_count": 29,
   "metadata": {},
   "outputs": [],
   "source": [
    "def get_price_for_ride(orig, dest):\n",
    "    \"\"\"\n",
    "    :param orig: origin as coordinates in the form \"xx.xxxxxx,yy.yyyyyy\" (\"lon,lat\")\n",
    "    :param dest: destination as coordinates in the form \"xx.xxxxxx,yy.yyyyyy\" (\"lon,lat\")\n",
    "    :return: Price for the ride in euros\n",
    "    \"\"\"    \n",
    "    # step 1: base price in euros\n",
    "    basic_fee = 3.0\n",
    "    minute_price = 0.8\n",
    "    \n",
    "    #step 2: pure travel time\n",
    "    duration = get_duration_in_min(orig=orig, dest=dest)\n",
    "    \n",
    "    #step 3: account for driver scarcity\n",
    "    scarcity = list(np.around(np.arange(0.7, 1.3, 0.05),2))\n",
    "    scarcity_weight = random.choice(scarcity)\n",
    "        \n",
    "    #step 4: account for traffic density\n",
    "    traffic_weight = 1\n",
    "    if is_weekday():\n",
    "        traffic_weight = get_traffic_density_weight()\n",
    "\n",
    "    #step 5: account for weather forecast\n",
    "    \n",
    "    ##obtain forecast and unix timestamp in utc\n",
    "    weather_forecast = get_weather_forecast(coordinates=orig)\n",
    "    utc_timestamp = get_utc_timestamp_next_full_hour()\n",
    "    \n",
    "    ##calculate weight\n",
    "    weather_weight = get_weather_weight(unix_timestamp_utc=utc_timestamp, forecast=weather_forecast)\n",
    "\n",
    "    return round(basic_fee + (minute_price * duration * scarcity_weight * traffic_weight * weather_weight),2)\n",
    "    "
   ]
  },
  {
   "cell_type": "code",
   "execution_count": 30,
   "metadata": {},
   "outputs": [
    {
     "ename": "TypeError",
     "evalue": "'NoneType' object is not iterable",
     "output_type": "error",
     "traceback": [
      "\u001b[0;31m---------------------------------------------------------------------------\u001b[0m",
      "\u001b[0;31mTypeError\u001b[0m                                 Traceback (most recent call last)",
      "\u001b[0;32m/var/folders/kz/ns20rsns4_jbby8d_q1zbplr0000gn/T/ipykernel_55885/4238948136.py\u001b[0m in \u001b[0;36m<module>\u001b[0;34m\u001b[0m\n\u001b[1;32m     11\u001b[0m \u001b[0mdest\u001b[0m \u001b[0;34m=\u001b[0m \u001b[0mzoo\u001b[0m\u001b[0;34m\u001b[0m\u001b[0;34m\u001b[0m\u001b[0m\n\u001b[1;32m     12\u001b[0m \u001b[0;34m\u001b[0m\u001b[0m\n\u001b[0;32m---> 13\u001b[0;31m \u001b[0mget_price_for_ride\u001b[0m\u001b[0;34m(\u001b[0m\u001b[0morig\u001b[0m\u001b[0;34m,\u001b[0m \u001b[0mdest\u001b[0m\u001b[0;34m)\u001b[0m\u001b[0;34m\u001b[0m\u001b[0;34m\u001b[0m\u001b[0m\n\u001b[0m",
      "\u001b[0;32m/var/folders/kz/ns20rsns4_jbby8d_q1zbplr0000gn/T/ipykernel_55885/117113566.py\u001b[0m in \u001b[0;36mget_price_for_ride\u001b[0;34m(orig, dest)\u001b[0m\n\u001b[1;32m     24\u001b[0m \u001b[0;34m\u001b[0m\u001b[0m\n\u001b[1;32m     25\u001b[0m     \u001b[0;31m##obtain forecast and unix timestamp in utc\u001b[0m\u001b[0;34m\u001b[0m\u001b[0;34m\u001b[0m\u001b[0m\n\u001b[0;32m---> 26\u001b[0;31m     \u001b[0mweather_forecast\u001b[0m \u001b[0;34m=\u001b[0m \u001b[0mget_weather_forecast\u001b[0m\u001b[0;34m(\u001b[0m\u001b[0mcoordinates\u001b[0m\u001b[0;34m=\u001b[0m\u001b[0morig\u001b[0m\u001b[0;34m)\u001b[0m\u001b[0;34m\u001b[0m\u001b[0;34m\u001b[0m\u001b[0m\n\u001b[0m\u001b[1;32m     27\u001b[0m     \u001b[0mutc_timestamp\u001b[0m \u001b[0;34m=\u001b[0m \u001b[0mget_utc_timestamp_next_full_hour\u001b[0m\u001b[0;34m(\u001b[0m\u001b[0;34m)\u001b[0m\u001b[0;34m\u001b[0m\u001b[0;34m\u001b[0m\u001b[0m\n\u001b[1;32m     28\u001b[0m \u001b[0;34m\u001b[0m\u001b[0m\n",
      "\u001b[0;32m/var/folders/kz/ns20rsns4_jbby8d_q1zbplr0000gn/T/ipykernel_55885/4168655412.py\u001b[0m in \u001b[0;36mget_weather_forecast\u001b[0;34m(coordinates, api_key)\u001b[0m\n\u001b[1;32m     19\u001b[0m \u001b[0;34m\u001b[0m\u001b[0m\n\u001b[1;32m     20\u001b[0m     \u001b[0;31m# dict; key: unix timestamp utc, value: list with temperature, main weather\u001b[0m\u001b[0;34m\u001b[0m\u001b[0;34m\u001b[0m\u001b[0m\n\u001b[0;32m---> 21\u001b[0;31m     \u001b[0;32mreturn\u001b[0m \u001b[0;34m{\u001b[0m\u001b[0mx\u001b[0m\u001b[0;34m.\u001b[0m\u001b[0mget\u001b[0m\u001b[0;34m(\u001b[0m\u001b[0;34m\"dt\"\u001b[0m\u001b[0;34m)\u001b[0m\u001b[0;34m:\u001b[0m \u001b[0;34m[\u001b[0m\u001b[0mx\u001b[0m\u001b[0;34m.\u001b[0m\u001b[0mget\u001b[0m\u001b[0;34m(\u001b[0m\u001b[0;34m\"temp\"\u001b[0m\u001b[0;34m)\u001b[0m\u001b[0;34m,\u001b[0m \u001b[0mx\u001b[0m\u001b[0;34m.\u001b[0m\u001b[0mget\u001b[0m\u001b[0;34m(\u001b[0m\u001b[0;34m\"weather\"\u001b[0m\u001b[0;34m)\u001b[0m\u001b[0;34m[\u001b[0m\u001b[0;36m0\u001b[0m\u001b[0;34m]\u001b[0m\u001b[0;34m.\u001b[0m\u001b[0mget\u001b[0m\u001b[0;34m(\u001b[0m\u001b[0;34m\"main\"\u001b[0m\u001b[0;34m)\u001b[0m\u001b[0;34m]\u001b[0m \u001b[0;32mfor\u001b[0m \u001b[0mx\u001b[0m \u001b[0;32min\u001b[0m \u001b[0mjson\u001b[0m\u001b[0;34m.\u001b[0m\u001b[0mloads\u001b[0m\u001b[0;34m(\u001b[0m\u001b[0mresponse\u001b[0m\u001b[0;34m.\u001b[0m\u001b[0mtext\u001b[0m\u001b[0;34m)\u001b[0m\u001b[0;34m.\u001b[0m\u001b[0mget\u001b[0m\u001b[0;34m(\u001b[0m\u001b[0;34m\"hourly\"\u001b[0m\u001b[0;34m)\u001b[0m\u001b[0;34m}\u001b[0m\u001b[0;34m\u001b[0m\u001b[0;34m\u001b[0m\u001b[0m\n\u001b[0m",
      "\u001b[0;31mTypeError\u001b[0m: 'NoneType' object is not iterable"
     ]
    }
   ],
   "source": [
    "# testing\n",
    "\n",
    "# Hamburg\n",
    "hh_hbf = \"10.00619701611818,53.55214525925354\"\n",
    "zoo = \"9.938501976064497,53.5967893210501\"\n",
    "kiez = \"9.962571483020044,53.54969726567535\"\n",
    "elphi = \"9.984683128972797,53.541634912662126\"\n",
    "stadtpark = \"10.015518238726033,53.59710491208121\"\n",
    "\n",
    "orig = hh_hbf\n",
    "dest = zoo\n",
    "\n",
    "get_price_for_ride(orig, dest)"
   ]
  },
  {
   "cell_type": "markdown",
   "metadata": {},
   "source": [
    "## Part 2\n",
    "\n",
    "We now want to build a recommender to obtain the best prices for a ride during a given day. \n",
    "\n",
    "The first step is to define a function that takes a date as string as input parameter and returns a list of all half-hour timestamps as strings for this day between 5 a.m. and 11 p.m. (This could be changed of course.) Like this, we will be able to input a date at which the ride shall take place and the recommender can then calculate prices for all interesting timestamps."
   ]
  },
  {
   "cell_type": "code",
   "execution_count": 31,
   "metadata": {},
   "outputs": [],
   "source": [
    "def half_hour_steps(day, input_format = \"%Y-%m-%d\", output_format = \"%Y-%m-%d %H:%M\"):\n",
    "    \"\"\"\n",
    "    Takes a time string of input_format and returns a list of every half hour on that day of output_format.\n",
    "    \"\"\"\n",
    "    hour_list = []\n",
    "    for i in  range(5,23):\n",
    "        hour_list.append(datetime.strftime(datetime.strptime(day,input_format) + timedelta(hours=(i)), \"%Y-%m-%d %H:%M\"))\n",
    "        hour_list.append(datetime.strftime(datetime.strptime(day,input_format) + timedelta(hours=(i + 0.5)), \"%Y-%m-%d %H:%M\"))\n",
    "    return hour_list\n",
    "\n",
    "# half_hour_steps(\"2021-12-03\")"
   ]
  },
  {
   "cell_type": "markdown",
   "metadata": {},
   "source": [
    "As we only want to call the APIs for durations and weather forecast data once per query respectively, and not for every hour, we now adapt the pricing algorithm a bit. In detail, we want to separate the API call steps from the part where weights are calculated. \n",
    "\n",
    "We as well have to build a checker for the weather forecast here. If the requested day is today or latest the day after tomorrow, we want to obtain weather data. We then calculate a weather weight for every hour. Recall that for hours not matching any utc-unix-timestamp in the forecast the weight function will return 1. If the requested day is in the past or more than two days in the future, there won't be any forecast information and we want to skip the API call entirely.\n",
    "\n",
    "We first create a function which checks if the weather forecast API will be useful, i.e. if the start date is today or latest the day after tomorrow:"
   ]
  },
  {
   "cell_type": "code",
   "execution_count": 32,
   "metadata": {},
   "outputs": [],
   "source": [
    "from datetime import date    \n",
    "\n",
    "def weather_forecast_useful(start_date, input_format = \"%Y-%m-%d\"):\n",
    "    \"\"\"\n",
    "    :param start_date: date as string in formpat input_format\n",
    "    :param input_format: format of the date string\n",
    "    :return: True if day is now or latest the day after tomorrow, False otherwise (True if API call shall be performed)\n",
    "    \"\"\"\n",
    "    time_to_check  = datetime.strptime(start_date, input_format)\n",
    "    today = datetime.strptime(datetime.today().strftime(input_format), input_format)\n",
    "    two_days = today + timedelta(days=2)\n",
    "    return today <= time_to_check <= two_days"
   ]
  },
  {
   "cell_type": "code",
   "execution_count": 33,
   "metadata": {},
   "outputs": [
    {
     "data": {
      "text/plain": [
       "False"
      ]
     },
     "execution_count": 33,
     "metadata": {},
     "output_type": "execute_result"
    }
   ],
   "source": [
    "# testing\n",
    "weather_forecast_useful(\"2022-01-04\")"
   ]
  },
  {
   "cell_type": "markdown",
   "metadata": {},
   "source": [
    "We can now separate the API calls to get important data from the rest of the pricing algorithm. We also create a function which gets the weather weight for every hour once the data is retreived."
   ]
  },
  {
   "cell_type": "code",
   "execution_count": 34,
   "metadata": {},
   "outputs": [],
   "source": [
    "def get_important_data(orig, dest, start_date, input_format = \"%Y-%m-%d\"):\n",
    "    \"\"\"\n",
    "    :param orig: origin as coordinates in the form \"xx.xxxxxx,yy.yyyyyy\" (\"lon,lat\")\n",
    "    :param dest: destination as coordinates in the form \"xx.xxxxxx,yy.yyyyyy\" (\"lon,lat\")\n",
    "    :param start_date: starting day for the ride in the given form\n",
    "    :param input_format: format of the date string\n",
    "    :return: duration in minutes, weather if useful\n",
    "    \"\"\"\n",
    "    #step 1: get travel time\n",
    "    duration = get_duration_in_min(orig=orig, dest=dest)\n",
    "\n",
    "    #step 2: get weather forecast if useful\n",
    "    if weather_forecast_useful(start_date=start_date, input_format=input_format):\n",
    "        ##obtain forecast and unic timestamp in utc\n",
    "        weather_forecast = get_weather_forecast(coordinates=orig)\n",
    "    else:\n",
    "        weather_forecast = None\n",
    "\n",
    "    return duration, weather_forecast"
   ]
  },
  {
   "cell_type": "code",
   "execution_count": 35,
   "metadata": {},
   "outputs": [],
   "source": [
    "def get_weather_weight_for_hour(forecast, hour):\n",
    "    \"\"\"\n",
    "    :param forecast: dict with utc unix-timestamps and respective weather information\n",
    "    :param hour: hour for which the weather forecast has to be checked\n",
    "    :return: weather weight based on forecast (float)\n",
    "    \"\"\"\n",
    "    if not forecast:\n",
    "        return 1\n",
    "    utc_timestamp = get_utc_timestamp_next_full_hour(req_timestamp=hour)\n",
    "    return get_weather_weight(unix_timestamp_utc=utc_timestamp, forecast=forecast)"
   ]
  },
  {
   "cell_type": "code",
   "execution_count": 36,
   "metadata": {},
   "outputs": [],
   "source": [
    "import numpy as np\n",
    "\n",
    "def get_hour_specific_weights(hour):\n",
    "    \"\"\"\n",
    "    :param hour: utc unix-timestamp for which the weather forecastis checked\n",
    "    :return: weights for driver scarcity and traffic (tuple of floats)\n",
    "    \"\"\"\n",
    "   \n",
    "    #step 1: account for driver scarcity\n",
    "    scarcity = list(np.around(np.arange(0.7, 1.3, 0.05),2))\n",
    "    scarcity_weight = random.choice(scarcity)\n",
    "        \n",
    "    #step 2: account for traffic density\n",
    "    traffic_weight = 1\n",
    "    if is_weekday(req_timestamp=hour):\n",
    "        traffic_weight = get_traffic_density_weight(req_timestamp=hour)\n",
    "        \n",
    "    return scarcity_weight, traffic_weight\n"
   ]
  },
  {
   "cell_type": "code",
   "execution_count": 37,
   "metadata": {},
   "outputs": [
    {
     "data": {
      "text/plain": [
       "(0.95, 1)"
      ]
     },
     "execution_count": 37,
     "metadata": {},
     "output_type": "execute_result"
    }
   ],
   "source": [
    "#testing\n",
    "get_hour_specific_weights(\"2021-01-04 23:45\")"
   ]
  },
  {
   "cell_type": "markdown",
   "metadata": {},
   "source": [
    "We now bring everything together:\n",
    "\n",
    "1. Base price and minute price are defined\n",
    "2. For the requested day, we make API calls to get duration as well as weather forecast data if useful\n",
    "3. For every half hour step between 5 a.m. and 11 p.m. we calculate the weights\n",
    "3. For every timestamp, we then calculate the price for a given tour from origin to destination and write it into a dict\n",
    "3. Finally, these prices are compared and the recommender chooses the **five best hours** where prices will likely be cheapest"
   ]
  },
  {
   "cell_type": "code",
   "execution_count": 38,
   "metadata": {},
   "outputs": [],
   "source": [
    "from itertools import islice\n",
    "\n",
    "def recommender(orig, dest, start_date):\n",
    "    \"\"\"\n",
    "    :param orig: origin as coordinates in the form \"xx.xxxxxx,yy.yyyyyy\" (\"lon,lat\")\n",
    "    :param dest: destination as coordinates in the form \"xx.xxxxxx,yy.yyyyyy\" (\"lon,lat\")\n",
    "    :param start_date: starting day for the ride in the form \"%Y-%m-%d\" (could be used as input parameter as well) \n",
    "    \"\"\"\n",
    "    # step 1: base price in euros\n",
    "    basic_fee = 3.0\n",
    "    minute_price = 0.8\n",
    "    \n",
    "    #step 2: travel time and weather forecast\n",
    "    duration, weather_forecast = get_important_data(orig=orig, dest=dest, start_date=start_date)\n",
    "    \n",
    "    # step 3: get weights\n",
    "    hours_to_check = half_hour_steps(day=start_date)\n",
    "    hour_price_dict = {}\n",
    "    for hour in hours_to_check:\n",
    "        weather_weight = get_weather_weight_for_hour(forecast=weather_forecast, hour=hour)\n",
    "        scarcity_weight, traffic_weight = get_hour_specific_weights(hour=hour)\n",
    "        price = round(basic_fee + (minute_price * duration * scarcity_weight * traffic_weight * weather_weight), 2)\n",
    "        hour_price_dict[hour] = price\n",
    "        \n",
    "    prices = dict(sorted(hour_price_dict.items(), key=lambda item: item[1]))\n",
    "    best_prices = [(k,prices[k]) for k in sorted(prices, key=prices.get)[:5]]\n",
    "    \n",
    "    return best_prices"
   ]
  },
  {
   "cell_type": "markdown",
   "metadata": {},
   "source": [
    "## Sample Case\n",
    "\n",
    "In the following, we provide some test data and optional widgets to verify that the recommender returns good results.\n",
    "\n",
    "You can of course also just put in some coordinates and a date of your choice in the last cell."
   ]
  },
  {
   "cell_type": "markdown",
   "metadata": {},
   "source": [
    "### Implementation using Widgets"
   ]
  },
  {
   "cell_type": "markdown",
   "metadata": {},
   "source": [
    "If the widgets do not work, try executing the following commands in the anaconda prompt:\n",
    "\n",
    "pip install ipywidgets\n",
    "\n",
    "jupyter nbextension enable --py widgetsnbextension"
   ]
  },
  {
   "cell_type": "code",
   "execution_count": 39,
   "metadata": {},
   "outputs": [],
   "source": [
    "import ipywidgets as widgets\n",
    "from IPython.display import display\n",
    "\n",
    "# print(dir(widgets))"
   ]
  },
  {
   "cell_type": "code",
   "execution_count": 40,
   "metadata": {},
   "outputs": [
    {
     "data": {
      "application/vnd.jupyter.widget-view+json": {
       "model_id": "1f6b0e276d86403d81cbc21840ea45a7",
       "version_major": 2,
       "version_minor": 0
      },
      "text/plain": [
       "DatePicker(value=None, description='Pick a Date')"
      ]
     },
     "metadata": {},
     "output_type": "display_data"
    }
   ],
   "source": [
    "day = widgets.DatePicker(\n",
    "    description='Pick a Date',\n",
    "    disabled=False\n",
    ")\n",
    "\n",
    "display(day)"
   ]
  },
  {
   "cell_type": "code",
   "execution_count": 41,
   "metadata": {},
   "outputs": [
    {
     "data": {
      "application/vnd.jupyter.widget-view+json": {
       "model_id": "c971a9b229d749efa76d0661d47d412d",
       "version_major": 2,
       "version_minor": 0
      },
      "text/plain": [
       "RadioButtons(description='Origin:', options=('Hamburg Main Station', 'Zoo', 'Kiez', 'Elbphilharmonie', 'City P…"
      ]
     },
     "metadata": {},
     "output_type": "display_data"
    }
   ],
   "source": [
    "# testing\n",
    "\n",
    "coordinates = {\n",
    "    \"Muenster\": {\n",
    "        \"WWU\": \"7.625524547448689,51.95945106021929\",\n",
    "        \"Muenster Main Station\": \"7.634604410557125,51.957731466963246\",\n",
    "        \"Swimming Pool\": \"7.639866251272151,51.9008576205792\",\n",
    "        \"Schlossgarten\": \"7.610461020177072,51.96479504195511\",\n",
    "        \"Golf Course\": \"7.546747472056256,51.89861464567043\"\n",
    "    },\n",
    "    \"Hamburg\": {\n",
    "        \"Hamburg Main Station\": \"10.00619701611818,53.55214525925354\",\n",
    "        \"Zoo\": \"9.938501976064497,53.5967893210501\",\n",
    "        \"Kiez\": \"9.962571483020044,53.54969726567535\",\n",
    "        \"Elbphilharmonie\": \"9.984683128972797,53.541634912662126\",\n",
    "        \"City Park\": \"10.015518238726033,53.59710491208121\"\n",
    "    }\n",
    "}\n",
    "\n",
    "places = list(coordinates[\"Hamburg\"])\n",
    "\n",
    "\n",
    "origin = widgets.RadioButtons(\n",
    "    options=places,\n",
    "    description='Origin:',\n",
    "    disabled=False\n",
    ")\n",
    "\n",
    "display(origin)"
   ]
  },
  {
   "cell_type": "code",
   "execution_count": 42,
   "metadata": {},
   "outputs": [
    {
     "data": {
      "application/vnd.jupyter.widget-view+json": {
       "model_id": "a86ea65f30994842836e16630488005e",
       "version_major": 2,
       "version_minor": 0
      },
      "text/plain": [
       "RadioButtons(description='Destination:', options=('Hamburg Main Station', 'Zoo', 'Kiez', 'Elbphilharmonie', 'C…"
      ]
     },
     "metadata": {},
     "output_type": "display_data"
    }
   ],
   "source": [
    "places = list(coordinates[\"Hamburg\"])\n",
    "\n",
    "destination = widgets.RadioButtons(\n",
    "    options=places,\n",
    "#    value='pineapple', # Defaults to 'pineapple'\n",
    "#    layout={'width': 'max-content'}, # If the items' names are long\n",
    "    description='Destination:',\n",
    "    disabled=False\n",
    ")\n",
    "\n",
    "display(destination)"
   ]
  },
  {
   "cell_type": "code",
   "execution_count": 43,
   "metadata": {},
   "outputs": [
    {
     "ename": "TypeError",
     "evalue": "descriptor 'strftime' for 'datetime.date' objects doesn't apply to a 'NoneType' object",
     "output_type": "error",
     "traceback": [
      "\u001b[0;31m---------------------------------------------------------------------------\u001b[0m",
      "\u001b[0;31mTypeError\u001b[0m                                 Traceback (most recent call last)",
      "\u001b[0;32m/var/folders/kz/ns20rsns4_jbby8d_q1zbplr0000gn/T/ipykernel_55885/3351906573.py\u001b[0m in \u001b[0;36m<module>\u001b[0;34m\u001b[0m\n\u001b[1;32m      4\u001b[0m \u001b[0morig\u001b[0m \u001b[0;34m=\u001b[0m \u001b[0mcoordinates\u001b[0m\u001b[0;34m[\u001b[0m\u001b[0;34m\"Hamburg\"\u001b[0m\u001b[0;34m]\u001b[0m\u001b[0;34m[\u001b[0m\u001b[0morigin\u001b[0m\u001b[0;34m.\u001b[0m\u001b[0mvalue\u001b[0m\u001b[0;34m]\u001b[0m\u001b[0;34m\u001b[0m\u001b[0;34m\u001b[0m\u001b[0m\n\u001b[1;32m      5\u001b[0m \u001b[0mdest\u001b[0m \u001b[0;34m=\u001b[0m \u001b[0mcoordinates\u001b[0m\u001b[0;34m[\u001b[0m\u001b[0;34m\"Hamburg\"\u001b[0m\u001b[0;34m]\u001b[0m\u001b[0;34m[\u001b[0m\u001b[0mdestination\u001b[0m\u001b[0;34m.\u001b[0m\u001b[0mvalue\u001b[0m\u001b[0;34m]\u001b[0m\u001b[0;34m\u001b[0m\u001b[0;34m\u001b[0m\u001b[0m\n\u001b[0;32m----> 6\u001b[0;31m \u001b[0mstart_date\u001b[0m \u001b[0;34m=\u001b[0m \u001b[0mdatetime\u001b[0m\u001b[0;34m.\u001b[0m\u001b[0mstrftime\u001b[0m\u001b[0;34m(\u001b[0m\u001b[0mday\u001b[0m\u001b[0;34m.\u001b[0m\u001b[0mvalue\u001b[0m\u001b[0;34m,\u001b[0m \u001b[0;34m\"%Y-%m-%d\"\u001b[0m\u001b[0;34m)\u001b[0m\u001b[0;34m\u001b[0m\u001b[0;34m\u001b[0m\u001b[0m\n\u001b[0m\u001b[1;32m      7\u001b[0m \u001b[0mpretty_date\u001b[0m \u001b[0;34m=\u001b[0m \u001b[0mdatetime\u001b[0m\u001b[0;34m.\u001b[0m\u001b[0mstrftime\u001b[0m\u001b[0;34m(\u001b[0m\u001b[0mday\u001b[0m\u001b[0;34m.\u001b[0m\u001b[0mvalue\u001b[0m\u001b[0;34m,\u001b[0m \u001b[0;34m\"%d.%m.%Y\"\u001b[0m\u001b[0;34m)\u001b[0m\u001b[0;34m\u001b[0m\u001b[0;34m\u001b[0m\u001b[0m\n\u001b[1;32m      8\u001b[0m \u001b[0;34m\u001b[0m\u001b[0m\n",
      "\u001b[0;31mTypeError\u001b[0m: descriptor 'strftime' for 'datetime.date' objects doesn't apply to a 'NoneType' object"
     ]
    }
   ],
   "source": [
    "#from datetime import datetime\n",
    "#import time\n",
    "\n",
    "orig = coordinates[\"Hamburg\"][origin.value]\n",
    "dest = coordinates[\"Hamburg\"][destination.value]\n",
    "start_date = datetime.strftime(day.value, \"%Y-%m-%d\")\n",
    "pretty_date = datetime.strftime(day.value, \"%d.%m.%Y\")\n",
    "\n",
    "print(f\"Searching for best prices for trip from {origin.value} to {destination.value} at {pretty_date}.\")\n",
    "\n",
    "prices_list = recommender(orig=orig, dest=dest, start_date=start_date)\n",
    "\n",
    "# For the experience\n",
    "time.sleep(1)\n",
    "print(\"...\")\n",
    "time.sleep(1)\n",
    "print(\"HA!\")\n",
    "time.sleep(1)\n",
    "print(\"...\")\n",
    "\n",
    "for i, tup in enumerate(prices_list):\n",
    "    print(f\"Top {i+1} price for {pretty_date}: {tup[1]} euros when departing at {tup[0][-5:]}h.\")"
   ]
  },
  {
   "cell_type": "markdown",
   "metadata": {},
   "source": [
    "### Alternative without Widgets"
   ]
  },
  {
   "cell_type": "code",
   "execution_count": 57,
   "metadata": {},
   "outputs": [
    {
     "name": "stdout",
     "output_type": "stream",
     "text": [
      "Top 1 price for 2022-01-10: 12.99 euros when departing at 14:00h.\n",
      "Top 2 price for 2022-01-10: 13.7 euros when departing at 09:30h.\n",
      "Top 3 price for 2022-01-10: 13.7 euros when departing at 12:30h.\n",
      "Top 4 price for 2022-01-10: 13.7 euros when departing at 13:00h.\n",
      "Top 5 price for 2022-01-10: 13.7 euros when departing at 22:00h.\n"
     ]
    }
   ],
   "source": [
    "# testing without the widgets\n",
    "\n",
    "orig = \"7.625524547448689,51.95945106021929\" # WWU\n",
    "dest = \"7.639866251272151,51.9008576205792\" # some swimming pool\n",
    "start_date = \"2022-01-10\" # weekday\n",
    "# start_date = \"2022-01-15\" # weekend\n",
    "\n",
    "prices_list = recommender(orig=orig, dest=dest, start_date=start_date)\n",
    "for i, tup in enumerate(prices_list):\n",
    "    print(f\"Top {i+1} price for {start_date}: {tup[1]} euros when departing at {tup[0][-5:]}h.\")\n"
   ]
  },
  {
   "cell_type": "code",
   "execution_count": null,
   "metadata": {},
   "outputs": [],
   "source": []
  }
 ],
 "metadata": {
  "kernelspec": {
   "display_name": "Python 3 (ipykernel)",
   "language": "python",
   "name": "python3"
  },
  "language_info": {
   "codemirror_mode": {
    "name": "ipython",
    "version": 3
   },
   "file_extension": ".py",
   "mimetype": "text/x-python",
   "name": "python",
   "nbconvert_exporter": "python",
   "pygments_lexer": "ipython3",
   "version": "3.9.7"
  }
 },
 "nbformat": 4,
 "nbformat_minor": 2
}
