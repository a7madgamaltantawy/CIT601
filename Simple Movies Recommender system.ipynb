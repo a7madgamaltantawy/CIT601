{
 "cells": [
  {
   "cell_type": "markdown",
   "id": "8aee1bba",
   "metadata": {},
   "source": [
    "\n",
    "# Movies Recommendations"
   ]
  },
  {
   "cell_type": "markdown",
   "id": "a522fd03",
   "metadata": {},
   "source": [
    "## Table of Contents\n",
    "\n",
    "1. [Recommender Systems](#recsys)\n",
    "2. [Content-based Recommendation](#content)\n",
    "3. [Collaborative Filtering](#collab)\n"
   ]
  },
  {
   "cell_type": "markdown",
   "id": "22c7dc74",
   "metadata": {},
   "source": [
    "<a class=\"anchor\" id=\"recsys\"></a>\n",
    "\n",
    "# 1. Recommender Systems "
   ]
  },
  {
   "cell_type": "markdown",
   "id": "2a4eff76",
   "metadata": {},
   "source": [
    "\n",
    "Generally, a Recommender System (RS) intends to connect users to items (e.g., movies, videos, songs, products) from a large catalogue so that the items might be of interest to these users. To do so, an RS tries to predict a relevance score for items in the catalogue by exploiting information about the user (e.g., the user's profile and preferences) and the item (e.g., content, specification, and characteristic features).\n",
    "\n",
    "Online shopping sites like Amazon and streaming platforms such as Netflix or Spotify heavily rely on an RS to improve their business. You have probably come across product or movie recommendations; they are aggregated in\n",
    "application or website sections such as \"Because you watched...\" or \"Because you purchased...\".\n",
    "\n",
    "There are two basic types of recommender systems:\n",
    "\n",
    "* **Content-based filtering**: Searches for a small set of items whose\n",
    "    contents best matches the user profile. In other words, a\n",
    "    content-based RS focuses on the properties of items. They assume\n",
    "    that users might be interested in items whose content is similar to\n",
    "    those of items consumed before.\n",
    "* **Collaborative filtering**: Searches for a small set of users or items sharing similar preferences. It assumes that users who share similar preferences or have similar tastes might be interested in similar items (or that items which have similar appeal to many users can be suggested to users who like some, but not yet all of them). The former is also know as \"user-to-user\" collaborative filtering, while the latter is know as \"item-to-item\" collaborative filtering. \n",
    "\n",
    "We will look into both types using movie recommendation as an example. "
   ]
  },
  {
   "cell_type": "markdown",
   "id": "6bf6b7e7",
   "metadata": {},
   "source": [
    "<a class=\"anchor\" id=\"content\"></a>\n",
    "\n",
    "# 2. Content-based Recommendation\n",
    "\n",
    "The following picture shows the basic principle behind a content-based recommender system as explained above."
   ]
  },
  {
   "cell_type": "markdown",
   "id": "d5c5e309",
   "metadata": {},
   "source": [
    "<div style=\"align: left; text-align:center;\">\n",
    "    <img src=\"img/contentbased.png\" alt=\"Content-Based Recommender Systems\" />\n",
    "    <span style=\"display:block;\">Schema of a Content-based Recommender System.</span>\n",
    "    <br/>\n",
    "</div>"
   ]
  },
  {
   "cell_type": "markdown",
   "id": "563b297e",
   "metadata": {},
   "source": [
    "The following sequence of steps to create recommendations is a typical \"workflow\" used in a data science application. Basically, we follow the steps shown in the above picture.\n",
    "\n",
    "### Loading the data"
   ]
  },
  {
   "cell_type": "code",
   "execution_count": 1,
   "id": "a0e24dbb",
   "metadata": {},
   "outputs": [],
   "source": [
    "# We use the Pandas library to read the dataset from a .csv file:\n",
    "\n",
    "import pandas as pd\n",
    "\n",
    "movie_dataset = pd.read_csv('Data//contentrecsys.csv')"
   ]
  },
  {
   "cell_type": "code",
   "execution_count": 2,
   "id": "01802abf",
   "metadata": {},
   "outputs": [
    {
     "data": {
      "text/html": [
       "<div>\n",
       "<style scoped>\n",
       "    .dataframe tbody tr th:only-of-type {\n",
       "        vertical-align: middle;\n",
       "    }\n",
       "\n",
       "    .dataframe tbody tr th {\n",
       "        vertical-align: top;\n",
       "    }\n",
       "\n",
       "    .dataframe thead th {\n",
       "        text-align: right;\n",
       "    }\n",
       "</style>\n",
       "<table border=\"1\" class=\"dataframe\">\n",
       "  <thead>\n",
       "    <tr style=\"text-align: right;\">\n",
       "      <th></th>\n",
       "      <th>Movie</th>\n",
       "      <th>Adventure</th>\n",
       "      <th>Action</th>\n",
       "      <th>SciFi</th>\n",
       "      <th>Drama</th>\n",
       "      <th>Crime</th>\n",
       "      <th>Thriller</th>\n",
       "      <th>User1</th>\n",
       "      <th>User2</th>\n",
       "    </tr>\n",
       "  </thead>\n",
       "  <tbody>\n",
       "    <tr>\n",
       "      <th>0</th>\n",
       "      <td>Star Wars IV</td>\n",
       "      <td>1</td>\n",
       "      <td>1</td>\n",
       "      <td>1</td>\n",
       "      <td>0</td>\n",
       "      <td>0</td>\n",
       "      <td>0</td>\n",
       "      <td>1</td>\n",
       "      <td>-1</td>\n",
       "    </tr>\n",
       "    <tr>\n",
       "      <th>1</th>\n",
       "      <td>Saving Private Ryan</td>\n",
       "      <td>0</td>\n",
       "      <td>0</td>\n",
       "      <td>0</td>\n",
       "      <td>1</td>\n",
       "      <td>1</td>\n",
       "      <td>0</td>\n",
       "      <td>0</td>\n",
       "      <td>0</td>\n",
       "    </tr>\n",
       "    <tr>\n",
       "      <th>2</th>\n",
       "      <td>American Beauty</td>\n",
       "      <td>0</td>\n",
       "      <td>0</td>\n",
       "      <td>0</td>\n",
       "      <td>1</td>\n",
       "      <td>0</td>\n",
       "      <td>0</td>\n",
       "      <td>0</td>\n",
       "      <td>0</td>\n",
       "    </tr>\n",
       "    <tr>\n",
       "      <th>3</th>\n",
       "      <td>City of Gold</td>\n",
       "      <td>0</td>\n",
       "      <td>0</td>\n",
       "      <td>0</td>\n",
       "      <td>1</td>\n",
       "      <td>1</td>\n",
       "      <td>0</td>\n",
       "      <td>-1</td>\n",
       "      <td>1</td>\n",
       "    </tr>\n",
       "    <tr>\n",
       "      <th>4</th>\n",
       "      <td>Interstellar</td>\n",
       "      <td>0</td>\n",
       "      <td>0</td>\n",
       "      <td>1</td>\n",
       "      <td>1</td>\n",
       "      <td>0</td>\n",
       "      <td>0</td>\n",
       "      <td>1</td>\n",
       "      <td>0</td>\n",
       "    </tr>\n",
       "    <tr>\n",
       "      <th>5</th>\n",
       "      <td>The Matrix</td>\n",
       "      <td>1</td>\n",
       "      <td>1</td>\n",
       "      <td>1</td>\n",
       "      <td>0</td>\n",
       "      <td>0</td>\n",
       "      <td>1</td>\n",
       "      <td>0</td>\n",
       "      <td>1</td>\n",
       "    </tr>\n",
       "  </tbody>\n",
       "</table>\n",
       "</div>"
      ],
      "text/plain": [
       "                 Movie  Adventure  Action  SciFi  Drama  Crime  Thriller  \\\n",
       "0         Star Wars IV          1       1      1      0      0         0   \n",
       "1  Saving Private Ryan          0       0      0      1      1         0   \n",
       "2      American Beauty          0       0      0      1      0         0   \n",
       "3         City of Gold          0       0      0      1      1         0   \n",
       "4         Interstellar          0       0      1      1      0         0   \n",
       "5           The Matrix          1       1      1      0      0         1   \n",
       "\n",
       "   User1  User2  \n",
       "0      1     -1  \n",
       "1      0      0  \n",
       "2      0      0  \n",
       "3     -1      1  \n",
       "4      1      0  \n",
       "5      0      1  "
      ]
     },
     "execution_count": 2,
     "metadata": {},
     "output_type": "execute_result"
    }
   ],
   "source": [
    "movie_dataset"
   ]
  },
  {
   "cell_type": "markdown",
   "id": "bd00da39",
   "metadata": {},
   "source": [
    "We see that the dataset is about six movie categories and two users (the two rightmost columns), and it desribes six movies only.\n",
    "\n",
    "### Splitting movie data from user data"
   ]
  },
  {
   "cell_type": "markdown",
   "id": "854c331f",
   "metadata": {},
   "source": [
    "Since the dataset contains both data about movies and users, we have to separate these two groups in order to make recommendations."
   ]
  },
  {
   "cell_type": "markdown",
   "id": "7488bac9",
   "metadata": {},
   "source": [
    "We start by selecting the six columns that correspond to movie data:"
   ]
  },
  {
   "cell_type": "code",
   "execution_count": 3,
   "id": "3751cbff",
   "metadata": {},
   "outputs": [],
   "source": [
    "columns_movie_profile = movie_dataset.columns[:7] # Selecting the six columns of the data frame"
   ]
  },
  {
   "cell_type": "code",
   "execution_count": 4,
   "id": "9699d336",
   "metadata": {},
   "outputs": [
    {
     "name": "stdout",
     "output_type": "stream",
     "text": [
      "Index(['Movie', 'Adventure', 'Action', 'SciFi', 'Drama', 'Crime', 'Thriller'], dtype='object')\n"
     ]
    }
   ],
   "source": [
    "print(columns_movie_profile)"
   ]
  },
  {
   "cell_type": "markdown",
   "id": "8d6681ce",
   "metadata": {},
   "source": [
    "Next we select the columns corresponding to user data:"
   ]
  },
  {
   "cell_type": "code",
   "execution_count": 5,
   "id": "4887381c",
   "metadata": {},
   "outputs": [],
   "source": [
    "columns_user_history = movie_dataset.columns[7:] # Selecting the last two columns of the data frame"
   ]
  },
  {
   "cell_type": "code",
   "execution_count": 6,
   "id": "2afd5762",
   "metadata": {},
   "outputs": [
    {
     "data": {
      "text/plain": [
       "Index(['User1', 'User2'], dtype='object')"
      ]
     },
     "execution_count": 6,
     "metadata": {},
     "output_type": "execute_result"
    }
   ],
   "source": [
    "columns_user_history"
   ]
  },
  {
   "cell_type": "markdown",
   "id": "ec48394b",
   "metadata": {},
   "source": [
    "### Creating a view\n",
    "\n",
    "The next step is to materialize a view from the movie dataset containing just the user ratings."
   ]
  },
  {
   "cell_type": "code",
   "execution_count": 7,
   "id": "589e5824",
   "metadata": {},
   "outputs": [],
   "source": [
    "user_history = movie_dataset[columns_user_history]"
   ]
  },
  {
   "cell_type": "code",
   "execution_count": 8,
   "id": "084692ff",
   "metadata": {},
   "outputs": [
    {
     "data": {
      "text/html": [
       "<div>\n",
       "<style scoped>\n",
       "    .dataframe tbody tr th:only-of-type {\n",
       "        vertical-align: middle;\n",
       "    }\n",
       "\n",
       "    .dataframe tbody tr th {\n",
       "        vertical-align: top;\n",
       "    }\n",
       "\n",
       "    .dataframe thead th {\n",
       "        text-align: right;\n",
       "    }\n",
       "</style>\n",
       "<table border=\"1\" class=\"dataframe\">\n",
       "  <thead>\n",
       "    <tr style=\"text-align: right;\">\n",
       "      <th></th>\n",
       "      <th>User1</th>\n",
       "      <th>User2</th>\n",
       "    </tr>\n",
       "  </thead>\n",
       "  <tbody>\n",
       "    <tr>\n",
       "      <th>0</th>\n",
       "      <td>1</td>\n",
       "      <td>-1</td>\n",
       "    </tr>\n",
       "    <tr>\n",
       "      <th>1</th>\n",
       "      <td>0</td>\n",
       "      <td>0</td>\n",
       "    </tr>\n",
       "    <tr>\n",
       "      <th>2</th>\n",
       "      <td>0</td>\n",
       "      <td>0</td>\n",
       "    </tr>\n",
       "    <tr>\n",
       "      <th>3</th>\n",
       "      <td>-1</td>\n",
       "      <td>1</td>\n",
       "    </tr>\n",
       "    <tr>\n",
       "      <th>4</th>\n",
       "      <td>1</td>\n",
       "      <td>0</td>\n",
       "    </tr>\n",
       "    <tr>\n",
       "      <th>5</th>\n",
       "      <td>0</td>\n",
       "      <td>1</td>\n",
       "    </tr>\n",
       "  </tbody>\n",
       "</table>\n",
       "</div>"
      ],
      "text/plain": [
       "   User1  User2\n",
       "0      1     -1\n",
       "1      0      0\n",
       "2      0      0\n",
       "3     -1      1\n",
       "4      1      0\n",
       "5      0      1"
      ]
     },
     "execution_count": 8,
     "metadata": {},
     "output_type": "execute_result"
    }
   ],
   "source": [
    "user_history"
   ]
  },
  {
   "cell_type": "markdown",
   "id": "dc0a398a",
   "metadata": {},
   "source": [
    "### Querying a DataFrame"
   ]
  },
  {
   "cell_type": "markdown",
   "id": "220cc2e9",
   "metadata": {},
   "source": [
    "Pandas offers a variety of methods for finding and selecting specific data contained in a DataFrame.\n",
    "Here, we use the **.query()** method to select movies that User1 has liked. For more on the use of the query function of Pandas, see https://towardsdatascience.com/10-examples-that-will-make-you-use-pandas-query-function-more-often-a8fb3e9361cb.\n",
    "\n",
    "Note that we use **columns_movie_profile** to create a view where only information about movies is displayed."
   ]
  },
  {
   "cell_type": "code",
   "execution_count": 9,
   "id": "0dc1481f",
   "metadata": {},
   "outputs": [],
   "source": [
    "user1_movies = movie_dataset.query('User1 == 1')[columns_movie_profile]"
   ]
  },
  {
   "cell_type": "code",
   "execution_count": 10,
   "id": "80168559",
   "metadata": {},
   "outputs": [
    {
     "data": {
      "text/html": [
       "<div>\n",
       "<style scoped>\n",
       "    .dataframe tbody tr th:only-of-type {\n",
       "        vertical-align: middle;\n",
       "    }\n",
       "\n",
       "    .dataframe tbody tr th {\n",
       "        vertical-align: top;\n",
       "    }\n",
       "\n",
       "    .dataframe thead th {\n",
       "        text-align: right;\n",
       "    }\n",
       "</style>\n",
       "<table border=\"1\" class=\"dataframe\">\n",
       "  <thead>\n",
       "    <tr style=\"text-align: right;\">\n",
       "      <th></th>\n",
       "      <th>Movie</th>\n",
       "      <th>Adventure</th>\n",
       "      <th>Action</th>\n",
       "      <th>SciFi</th>\n",
       "      <th>Drama</th>\n",
       "      <th>Crime</th>\n",
       "      <th>Thriller</th>\n",
       "    </tr>\n",
       "  </thead>\n",
       "  <tbody>\n",
       "    <tr>\n",
       "      <th>0</th>\n",
       "      <td>Star Wars IV</td>\n",
       "      <td>1</td>\n",
       "      <td>1</td>\n",
       "      <td>1</td>\n",
       "      <td>0</td>\n",
       "      <td>0</td>\n",
       "      <td>0</td>\n",
       "    </tr>\n",
       "    <tr>\n",
       "      <th>4</th>\n",
       "      <td>Interstellar</td>\n",
       "      <td>0</td>\n",
       "      <td>0</td>\n",
       "      <td>1</td>\n",
       "      <td>1</td>\n",
       "      <td>0</td>\n",
       "      <td>0</td>\n",
       "    </tr>\n",
       "  </tbody>\n",
       "</table>\n",
       "</div>"
      ],
      "text/plain": [
       "          Movie  Adventure  Action  SciFi  Drama  Crime  Thriller\n",
       "0  Star Wars IV          1       1      1      0      0         0\n",
       "4  Interstellar          0       0      1      1      0         0"
      ]
     },
     "execution_count": 10,
     "metadata": {},
     "output_type": "execute_result"
    }
   ],
   "source": [
    "user1_movies"
   ]
  },
  {
   "cell_type": "markdown",
   "id": "81b779bb",
   "metadata": {},
   "source": [
    "### Defining user profiles "
   ]
  },
  {
   "cell_type": "markdown",
   "id": "ffef379d",
   "metadata": {},
   "source": [
    "For making content-based recommendations, we need to define user profiles. For simplicity, we here define a user profile as the mean of all movie profiles that this user has liked. This can be done by using the Pandas method .mean():"
   ]
  },
  {
   "cell_type": "code",
   "execution_count": 11,
   "id": "a58f43b7",
   "metadata": {},
   "outputs": [
    {
     "name": "stderr",
     "output_type": "stream",
     "text": [
      "/var/folders/kz/ns20rsns4_jbby8d_q1zbplr0000gn/T/ipykernel_47602/1823636730.py:1: FutureWarning: Dropping of nuisance columns in DataFrame reductions (with 'numeric_only=None') is deprecated; in a future version this will raise TypeError.  Select only valid columns before calling the reduction.\n",
      "  user1_profile = user1_movies.mean() # User profile is the mean of the movie profiles\n"
     ]
    }
   ],
   "source": [
    "user1_profile = user1_movies.mean() # User profile is the mean of the movie profiles"
   ]
  },
  {
   "cell_type": "code",
   "execution_count": 12,
   "id": "3f8e8d49",
   "metadata": {},
   "outputs": [
    {
     "data": {
      "text/plain": [
       "Adventure    0.5\n",
       "Action       0.5\n",
       "SciFi        1.0\n",
       "Drama        0.5\n",
       "Crime        0.0\n",
       "Thriller     0.0\n",
       "dtype: float64"
      ]
     },
     "execution_count": 12,
     "metadata": {},
     "output_type": "execute_result"
    }
   ],
   "source": [
    "user1_profile"
   ]
  },
  {
   "cell_type": "code",
   "execution_count": 13,
   "id": "ac9b3efc",
   "metadata": {},
   "outputs": [],
   "source": [
    "# Next we do the same with User2:\n",
    "\n",
    "user2_movies = movie_dataset.query('User2 == 1')[columns_movie_profile]"
   ]
  },
  {
   "cell_type": "code",
   "execution_count": 14,
   "id": "4f865117",
   "metadata": {},
   "outputs": [
    {
     "name": "stderr",
     "output_type": "stream",
     "text": [
      "/var/folders/kz/ns20rsns4_jbby8d_q1zbplr0000gn/T/ipykernel_47602/1833958203.py:1: FutureWarning: Dropping of nuisance columns in DataFrame reductions (with 'numeric_only=None') is deprecated; in a future version this will raise TypeError.  Select only valid columns before calling the reduction.\n",
      "  user2_profile = user2_movies.mean()\n"
     ]
    }
   ],
   "source": [
    "user2_profile = user2_movies.mean()"
   ]
  },
  {
   "cell_type": "code",
   "execution_count": 15,
   "id": "d76c6200",
   "metadata": {},
   "outputs": [
    {
     "data": {
      "text/plain": [
       "Adventure    0.5\n",
       "Action       0.5\n",
       "SciFi        0.5\n",
       "Drama        0.5\n",
       "Crime        0.5\n",
       "Thriller     0.5\n",
       "dtype: float64"
      ]
     },
     "execution_count": 15,
     "metadata": {},
     "output_type": "execute_result"
    }
   ],
   "source": [
    "user2_profile"
   ]
  },
  {
   "cell_type": "markdown",
   "id": "b93b23b4",
   "metadata": {},
   "source": [
    "### Selecting movies for recommendation"
   ]
  },
  {
   "cell_type": "markdown",
   "id": "eca96928",
   "metadata": {},
   "source": [
    "Now we need to select movies that are suitable for recommendation: We only consider movies the user to whom we want to make a recommendation has not watched yet. This can be done by using the .query() method and selecting movies where the user viewing history contains a zero."
   ]
  },
  {
   "cell_type": "code",
   "execution_count": 16,
   "id": "13f2abfe",
   "metadata": {},
   "outputs": [],
   "source": [
    "movies_to_user1 = movie_dataset.query('User1 == 0')[columns_movie_profile]"
   ]
  },
  {
   "cell_type": "code",
   "execution_count": 17,
   "id": "828081e3",
   "metadata": {},
   "outputs": [
    {
     "data": {
      "text/html": [
       "<div>\n",
       "<style scoped>\n",
       "    .dataframe tbody tr th:only-of-type {\n",
       "        vertical-align: middle;\n",
       "    }\n",
       "\n",
       "    .dataframe tbody tr th {\n",
       "        vertical-align: top;\n",
       "    }\n",
       "\n",
       "    .dataframe thead th {\n",
       "        text-align: right;\n",
       "    }\n",
       "</style>\n",
       "<table border=\"1\" class=\"dataframe\">\n",
       "  <thead>\n",
       "    <tr style=\"text-align: right;\">\n",
       "      <th></th>\n",
       "      <th>Movie</th>\n",
       "      <th>Adventure</th>\n",
       "      <th>Action</th>\n",
       "      <th>SciFi</th>\n",
       "      <th>Drama</th>\n",
       "      <th>Crime</th>\n",
       "      <th>Thriller</th>\n",
       "    </tr>\n",
       "  </thead>\n",
       "  <tbody>\n",
       "    <tr>\n",
       "      <th>1</th>\n",
       "      <td>Saving Private Ryan</td>\n",
       "      <td>0</td>\n",
       "      <td>0</td>\n",
       "      <td>0</td>\n",
       "      <td>1</td>\n",
       "      <td>1</td>\n",
       "      <td>0</td>\n",
       "    </tr>\n",
       "    <tr>\n",
       "      <th>2</th>\n",
       "      <td>American Beauty</td>\n",
       "      <td>0</td>\n",
       "      <td>0</td>\n",
       "      <td>0</td>\n",
       "      <td>1</td>\n",
       "      <td>0</td>\n",
       "      <td>0</td>\n",
       "    </tr>\n",
       "    <tr>\n",
       "      <th>5</th>\n",
       "      <td>The Matrix</td>\n",
       "      <td>1</td>\n",
       "      <td>1</td>\n",
       "      <td>1</td>\n",
       "      <td>0</td>\n",
       "      <td>0</td>\n",
       "      <td>1</td>\n",
       "    </tr>\n",
       "  </tbody>\n",
       "</table>\n",
       "</div>"
      ],
      "text/plain": [
       "                 Movie  Adventure  Action  SciFi  Drama  Crime  Thriller\n",
       "1  Saving Private Ryan          0       0      0      1      1         0\n",
       "2      American Beauty          0       0      0      1      0         0\n",
       "5           The Matrix          1       1      1      0      0         1"
      ]
     },
     "execution_count": 17,
     "metadata": {},
     "output_type": "execute_result"
    }
   ],
   "source": [
    "movies_to_user1"
   ]
  },
  {
   "cell_type": "markdown",
   "id": "8f86fea6",
   "metadata": {},
   "source": [
    "### Defining the recommendation model"
   ]
  },
  {
   "cell_type": "markdown",
   "id": "a654d32c",
   "metadata": {},
   "source": [
    "A content-based recommender system tries to find the best matches between user profiles and movie profiles. A simple way to achieve this is using a *similarity metric*. Here, we define our recommendation model using *cosine similarity*, which considers both user profiles and movie profiles as vectors and finds the cosine of the angle between these vectors.\n",
    "\n",
    "Recall that objects represented by these vectors are \"similar\" if their corresponding vectors are “close” to each other, i.e., the angle between them is small. In other words, the smaller the angle between the two vectors, the higher the similarity between the objects they represent. Let the two vectors be called A and B and the angle between them $\\theta$, then, as discussed in the previous notebook, their similarity is the cosine of $\\theta$, which is the normalized scalar (or dot) product of the two vectors A and B. \n"
   ]
  },
  {
   "cell_type": "markdown",
   "id": "a8fe0e0b",
   "metadata": {},
   "source": [
    "We use SciKit-Learn's **.cosine_similarity()** function to compute it:"
   ]
  },
  {
   "cell_type": "code",
   "execution_count": 18,
   "id": "85c49821",
   "metadata": {},
   "outputs": [],
   "source": [
    "from sklearn.metrics.pairwise import cosine_similarity "
   ]
  },
  {
   "cell_type": "markdown",
   "id": "42fea4bd",
   "metadata": {},
   "source": [
    "Since the **.cosine_similarity()** function expects two collections of vectors as parameters, we need to transform our user profile vector:  "
   ]
  },
  {
   "cell_type": "code",
   "execution_count": 22,
   "id": "7e3cba5d",
   "metadata": {},
   "outputs": [
    {
     "data": {
      "text/plain": [
       "Adventure    0.5\n",
       "Action       0.5\n",
       "SciFi        1.0\n",
       "Drama        0.5\n",
       "Crime        0.0\n",
       "Thriller     0.0\n",
       "dtype: float64"
      ]
     },
     "execution_count": 22,
     "metadata": {},
     "output_type": "execute_result"
    }
   ],
   "source": [
    "user1_profile"
   ]
  },
  {
   "cell_type": "code",
   "execution_count": 23,
   "id": "1316c45b",
   "metadata": {},
   "outputs": [],
   "source": [
    "transformed_user1_profile = user1_profile.values.reshape(1,-1)"
   ]
  },
  {
   "cell_type": "code",
   "execution_count": 24,
   "id": "1b36cfcd",
   "metadata": {},
   "outputs": [
    {
     "data": {
      "text/plain": [
       "array([[0.5, 0.5, 1. , 0.5, 0. , 0. ]])"
      ]
     },
     "execution_count": 24,
     "metadata": {},
     "output_type": "execute_result"
    }
   ],
   "source": [
    "transformed_user1_profile"
   ]
  },
  {
   "cell_type": "markdown",
   "id": "64c74b23",
   "metadata": {},
   "source": [
    "Now we can compute similarities:"
   ]
  },
  {
   "cell_type": "code",
   "execution_count": 25,
   "id": "3ae85d2f",
   "metadata": {},
   "outputs": [],
   "source": [
    "similarities = cosine_similarity(movies_to_user1._get_numeric_data(), user1_profile.values.reshape(1,-1))"
   ]
  },
  {
   "cell_type": "code",
   "execution_count": 26,
   "id": "82bfcccf",
   "metadata": {},
   "outputs": [
    {
     "name": "stdout",
     "output_type": "stream",
     "text": [
      "[[0.26726124]\n",
      " [0.37796447]\n",
      " [0.75592895]]\n"
     ]
    }
   ],
   "source": [
    "print(similarities)"
   ]
  },
  {
   "cell_type": "markdown",
   "id": "1778736d",
   "metadata": {},
   "source": [
    "We add the similarity information to the movies_to_user1 DataFrame ..."
   ]
  },
  {
   "cell_type": "code",
   "execution_count": 27,
   "id": "728407df",
   "metadata": {},
   "outputs": [],
   "source": [
    "movies_to_user1['Similarity'] = similarities"
   ]
  },
  {
   "cell_type": "code",
   "execution_count": 29,
   "id": "83389bf8",
   "metadata": {},
   "outputs": [
    {
     "data": {
      "text/html": [
       "<div>\n",
       "<style scoped>\n",
       "    .dataframe tbody tr th:only-of-type {\n",
       "        vertical-align: middle;\n",
       "    }\n",
       "\n",
       "    .dataframe tbody tr th {\n",
       "        vertical-align: top;\n",
       "    }\n",
       "\n",
       "    .dataframe thead th {\n",
       "        text-align: right;\n",
       "    }\n",
       "</style>\n",
       "<table border=\"1\" class=\"dataframe\">\n",
       "  <thead>\n",
       "    <tr style=\"text-align: right;\">\n",
       "      <th></th>\n",
       "      <th>Movie</th>\n",
       "      <th>Adventure</th>\n",
       "      <th>Action</th>\n",
       "      <th>SciFi</th>\n",
       "      <th>Drama</th>\n",
       "      <th>Crime</th>\n",
       "      <th>Thriller</th>\n",
       "      <th>Similarity</th>\n",
       "    </tr>\n",
       "  </thead>\n",
       "  <tbody>\n",
       "    <tr>\n",
       "      <th>1</th>\n",
       "      <td>Saving Private Ryan</td>\n",
       "      <td>0</td>\n",
       "      <td>0</td>\n",
       "      <td>0</td>\n",
       "      <td>1</td>\n",
       "      <td>1</td>\n",
       "      <td>0</td>\n",
       "      <td>0.267261</td>\n",
       "    </tr>\n",
       "    <tr>\n",
       "      <th>2</th>\n",
       "      <td>American Beauty</td>\n",
       "      <td>0</td>\n",
       "      <td>0</td>\n",
       "      <td>0</td>\n",
       "      <td>1</td>\n",
       "      <td>0</td>\n",
       "      <td>0</td>\n",
       "      <td>0.377964</td>\n",
       "    </tr>\n",
       "    <tr>\n",
       "      <th>5</th>\n",
       "      <td>The Matrix</td>\n",
       "      <td>1</td>\n",
       "      <td>1</td>\n",
       "      <td>1</td>\n",
       "      <td>0</td>\n",
       "      <td>0</td>\n",
       "      <td>1</td>\n",
       "      <td>0.755929</td>\n",
       "    </tr>\n",
       "  </tbody>\n",
       "</table>\n",
       "</div>"
      ],
      "text/plain": [
       "                 Movie  Adventure  Action  SciFi  Drama  Crime  Thriller  \\\n",
       "1  Saving Private Ryan          0       0      0      1      1         0   \n",
       "2      American Beauty          0       0      0      1      0         0   \n",
       "5           The Matrix          1       1      1      0      0         1   \n",
       "\n",
       "   Similarity  \n",
       "1    0.267261  \n",
       "2    0.377964  \n",
       "5    0.755929  "
      ]
     },
     "execution_count": 29,
     "metadata": {},
     "output_type": "execute_result"
    }
   ],
   "source": [
    "movies_to_user1"
   ]
  },
  {
   "cell_type": "markdown",
   "id": "8d19cc54",
   "metadata": {},
   "source": [
    "... and sort movies according to their similarities:"
   ]
  },
  {
   "cell_type": "code",
   "execution_count": 30,
   "id": "dd46cc62",
   "metadata": {},
   "outputs": [
    {
     "data": {
      "text/html": [
       "<div>\n",
       "<style scoped>\n",
       "    .dataframe tbody tr th:only-of-type {\n",
       "        vertical-align: middle;\n",
       "    }\n",
       "\n",
       "    .dataframe tbody tr th {\n",
       "        vertical-align: top;\n",
       "    }\n",
       "\n",
       "    .dataframe thead th {\n",
       "        text-align: right;\n",
       "    }\n",
       "</style>\n",
       "<table border=\"1\" class=\"dataframe\">\n",
       "  <thead>\n",
       "    <tr style=\"text-align: right;\">\n",
       "      <th></th>\n",
       "      <th>Movie</th>\n",
       "      <th>Adventure</th>\n",
       "      <th>Action</th>\n",
       "      <th>SciFi</th>\n",
       "      <th>Drama</th>\n",
       "      <th>Crime</th>\n",
       "      <th>Thriller</th>\n",
       "      <th>Similarity</th>\n",
       "    </tr>\n",
       "  </thead>\n",
       "  <tbody>\n",
       "    <tr>\n",
       "      <th>5</th>\n",
       "      <td>The Matrix</td>\n",
       "      <td>1</td>\n",
       "      <td>1</td>\n",
       "      <td>1</td>\n",
       "      <td>0</td>\n",
       "      <td>0</td>\n",
       "      <td>1</td>\n",
       "      <td>0.755929</td>\n",
       "    </tr>\n",
       "    <tr>\n",
       "      <th>2</th>\n",
       "      <td>American Beauty</td>\n",
       "      <td>0</td>\n",
       "      <td>0</td>\n",
       "      <td>0</td>\n",
       "      <td>1</td>\n",
       "      <td>0</td>\n",
       "      <td>0</td>\n",
       "      <td>0.377964</td>\n",
       "    </tr>\n",
       "    <tr>\n",
       "      <th>1</th>\n",
       "      <td>Saving Private Ryan</td>\n",
       "      <td>0</td>\n",
       "      <td>0</td>\n",
       "      <td>0</td>\n",
       "      <td>1</td>\n",
       "      <td>1</td>\n",
       "      <td>0</td>\n",
       "      <td>0.267261</td>\n",
       "    </tr>\n",
       "  </tbody>\n",
       "</table>\n",
       "</div>"
      ],
      "text/plain": [
       "                 Movie  Adventure  Action  SciFi  Drama  Crime  Thriller  \\\n",
       "5           The Matrix          1       1      1      0      0         1   \n",
       "2      American Beauty          0       0      0      1      0         0   \n",
       "1  Saving Private Ryan          0       0      0      1      1         0   \n",
       "\n",
       "   Similarity  \n",
       "5    0.755929  \n",
       "2    0.377964  \n",
       "1    0.267261  "
      ]
     },
     "execution_count": 30,
     "metadata": {},
     "output_type": "execute_result"
    }
   ],
   "source": [
    "movies_to_user1.sort_values(by=['Similarity'], ascending=False)"
   ]
  },
  {
   "cell_type": "markdown",
   "id": "89ee5332",
   "metadata": {},
   "source": [
    "As you can see, The Matrix is the movie to be recommended first to User 1."
   ]
  },
  {
   "cell_type": "markdown",
   "id": "94d51543",
   "metadata": {},
   "source": [
    "### Exercise\n",
    "\n",
    "Follow the same process to find out which movies to recommend to User 2."
   ]
  },
  {
   "cell_type": "code",
   "execution_count": null,
   "id": "4e345515",
   "metadata": {},
   "outputs": [],
   "source": [
    "# Add your code here"
   ]
  },
  {
   "cell_type": "markdown",
   "id": "5a77881c",
   "metadata": {},
   "source": [
    "<a class=\"anchor\" id=\"collab\"></a>\n",
    "\n",
    "# 3. Collaborative Filtering\n",
    "\n",
    "We now turn to the second category of recommender systems. The following picture shows the basic principle behind a recommender system that is based on collaborative filtering.\n"
   ]
  },
  {
   "cell_type": "markdown",
   "id": "b485199a",
   "metadata": {},
   "source": [
    "<div style=\"align: left; text-align:center;\">\n",
    "    <img src=\"img/collaborativefiltering.png\" alt=\"Collaborative Filtering\" />\n",
    "    <span style=\"display:block;\">Schema of a Recommender System based on Collaborative Filtering.</span>\n",
    "    <br/>\n",
    "</div>"
   ]
  },
  {
   "cell_type": "markdown",
   "id": "320130b1",
   "metadata": {},
   "source": [
    "As mentioned above, there are two \"versions\" of collaborative filtering, user-2-user and item-2-item collaborative filtering. In the following, we use user-to-user collaborative filtering. The workflow is similar to what we have seen above; furthermore user-2-user and item-2-item filtering essentially follow the same steps."
   ]
  },
  {
   "cell_type": "markdown",
   "id": "f3ec6dce",
   "metadata": {},
   "source": [
    "### Loading the data"
   ]
  },
  {
   "cell_type": "code",
   "execution_count": 1,
   "id": "2fe97103",
   "metadata": {},
   "outputs": [],
   "source": [
    "import pandas as pd"
   ]
  },
  {
   "cell_type": "markdown",
   "id": "dc76bef9",
   "metadata": {},
   "source": [
    "We use a different dataset than before which contains a bit more data."
   ]
  },
  {
   "cell_type": "code",
   "execution_count": 2,
   "id": "cce2bec9",
   "metadata": {},
   "outputs": [],
   "source": [
    "ratings = pd.read_csv('Data//movie_ratings.csv')"
   ]
  },
  {
   "cell_type": "code",
   "execution_count": 3,
   "id": "2f3aa4a7",
   "metadata": {},
   "outputs": [
    {
     "data": {
      "text/html": [
       "<div>\n",
       "<style scoped>\n",
       "    .dataframe tbody tr th:only-of-type {\n",
       "        vertical-align: middle;\n",
       "    }\n",
       "\n",
       "    .dataframe tbody tr th {\n",
       "        vertical-align: top;\n",
       "    }\n",
       "\n",
       "    .dataframe thead th {\n",
       "        text-align: right;\n",
       "    }\n",
       "</style>\n",
       "<table border=\"1\" class=\"dataframe\">\n",
       "  <thead>\n",
       "    <tr style=\"text-align: right;\">\n",
       "      <th></th>\n",
       "      <th>User</th>\n",
       "      <th>Lady in the Water</th>\n",
       "      <th>Snakes on a Plane</th>\n",
       "      <th>Just My Luck</th>\n",
       "      <th>Superman Returns</th>\n",
       "      <th>You, Me and Dupree</th>\n",
       "      <th>The Night Listener</th>\n",
       "    </tr>\n",
       "  </thead>\n",
       "  <tbody>\n",
       "    <tr>\n",
       "      <th>0</th>\n",
       "      <td>Lisa Rose</td>\n",
       "      <td>2.5</td>\n",
       "      <td>3.5</td>\n",
       "      <td>3.0</td>\n",
       "      <td>3.5</td>\n",
       "      <td>2.5</td>\n",
       "      <td>3.0</td>\n",
       "    </tr>\n",
       "    <tr>\n",
       "      <th>1</th>\n",
       "      <td>Gene Seymour</td>\n",
       "      <td>3.0</td>\n",
       "      <td>3.5</td>\n",
       "      <td>1.5</td>\n",
       "      <td>5.0</td>\n",
       "      <td>3.5</td>\n",
       "      <td>3.0</td>\n",
       "    </tr>\n",
       "    <tr>\n",
       "      <th>2</th>\n",
       "      <td>Michael Phillips</td>\n",
       "      <td>2.5</td>\n",
       "      <td>3.0</td>\n",
       "      <td>0.0</td>\n",
       "      <td>3.5</td>\n",
       "      <td>0.0</td>\n",
       "      <td>4.0</td>\n",
       "    </tr>\n",
       "    <tr>\n",
       "      <th>3</th>\n",
       "      <td>Claudia Puig</td>\n",
       "      <td>0.0</td>\n",
       "      <td>3.5</td>\n",
       "      <td>3.0</td>\n",
       "      <td>4.0</td>\n",
       "      <td>2.5</td>\n",
       "      <td>4.5</td>\n",
       "    </tr>\n",
       "    <tr>\n",
       "      <th>4</th>\n",
       "      <td>Mick LaSalle</td>\n",
       "      <td>3.0</td>\n",
       "      <td>4.0</td>\n",
       "      <td>2.0</td>\n",
       "      <td>3.0</td>\n",
       "      <td>2.0</td>\n",
       "      <td>3.0</td>\n",
       "    </tr>\n",
       "    <tr>\n",
       "      <th>5</th>\n",
       "      <td>Jack Matthews</td>\n",
       "      <td>3.0</td>\n",
       "      <td>4.0</td>\n",
       "      <td>0.0</td>\n",
       "      <td>5.0</td>\n",
       "      <td>3.5</td>\n",
       "      <td>3.0</td>\n",
       "    </tr>\n",
       "    <tr>\n",
       "      <th>6</th>\n",
       "      <td>Toby</td>\n",
       "      <td>0.0</td>\n",
       "      <td>4.5</td>\n",
       "      <td>0.0</td>\n",
       "      <td>4.0</td>\n",
       "      <td>1.0</td>\n",
       "      <td>0.0</td>\n",
       "    </tr>\n",
       "  </tbody>\n",
       "</table>\n",
       "</div>"
      ],
      "text/plain": [
       "               User  Lady in the Water  Snakes on a Plane  Just My Luck  \\\n",
       "0         Lisa Rose                2.5                3.5           3.0   \n",
       "1      Gene Seymour                3.0                3.5           1.5   \n",
       "2  Michael Phillips                2.5                3.0           0.0   \n",
       "3      Claudia Puig                0.0                3.5           3.0   \n",
       "4      Mick LaSalle                3.0                4.0           2.0   \n",
       "5     Jack Matthews                3.0                4.0           0.0   \n",
       "6              Toby                0.0                4.5           0.0   \n",
       "\n",
       "   Superman Returns  You, Me and Dupree  The Night Listener  \n",
       "0               3.5                 2.5                 3.0  \n",
       "1               5.0                 3.5                 3.0  \n",
       "2               3.5                 0.0                 4.0  \n",
       "3               4.0                 2.5                 4.5  \n",
       "4               3.0                 2.0                 3.0  \n",
       "5               5.0                 3.5                 3.0  \n",
       "6               4.0                 1.0                 0.0  "
      ]
     },
     "execution_count": 3,
     "metadata": {},
     "output_type": "execute_result"
    }
   ],
   "source": [
    "ratings"
   ]
  },
  {
   "cell_type": "markdown",
   "id": "db869be1",
   "metadata": {},
   "source": [
    "### Selecting the 'current' user"
   ]
  },
  {
   "cell_type": "markdown",
   "id": "8db330bc",
   "metadata": {},
   "source": [
    "We start by selecting the 'current' user as the one who will receive recommendations. Here, we select user **Toby** by querying the **ratings** DataFrame:"
   ]
  },
  {
   "cell_type": "code",
   "execution_count": 4,
   "id": "f83df200",
   "metadata": {},
   "outputs": [],
   "source": [
    "current_user_profile = ratings.query(\"User == 'Toby'\")._get_numeric_data()"
   ]
  },
  {
   "cell_type": "code",
   "execution_count": 5,
   "id": "942eae92",
   "metadata": {},
   "outputs": [
    {
     "data": {
      "text/html": [
       "<div>\n",
       "<style scoped>\n",
       "    .dataframe tbody tr th:only-of-type {\n",
       "        vertical-align: middle;\n",
       "    }\n",
       "\n",
       "    .dataframe tbody tr th {\n",
       "        vertical-align: top;\n",
       "    }\n",
       "\n",
       "    .dataframe thead th {\n",
       "        text-align: right;\n",
       "    }\n",
       "</style>\n",
       "<table border=\"1\" class=\"dataframe\">\n",
       "  <thead>\n",
       "    <tr style=\"text-align: right;\">\n",
       "      <th></th>\n",
       "      <th>Lady in the Water</th>\n",
       "      <th>Snakes on a Plane</th>\n",
       "      <th>Just My Luck</th>\n",
       "      <th>Superman Returns</th>\n",
       "      <th>You, Me and Dupree</th>\n",
       "      <th>The Night Listener</th>\n",
       "    </tr>\n",
       "  </thead>\n",
       "  <tbody>\n",
       "    <tr>\n",
       "      <th>6</th>\n",
       "      <td>0.0</td>\n",
       "      <td>4.5</td>\n",
       "      <td>0.0</td>\n",
       "      <td>4.0</td>\n",
       "      <td>1.0</td>\n",
       "      <td>0.0</td>\n",
       "    </tr>\n",
       "  </tbody>\n",
       "</table>\n",
       "</div>"
      ],
      "text/plain": [
       "   Lady in the Water  Snakes on a Plane  Just My Luck  Superman Returns  \\\n",
       "6                0.0                4.5           0.0               4.0   \n",
       "\n",
       "   You, Me and Dupree  The Night Listener  \n",
       "6                 1.0                 0.0  "
      ]
     },
     "execution_count": 5,
     "metadata": {},
     "output_type": "execute_result"
    }
   ],
   "source": [
    "current_user_profile"
   ]
  },
  {
   "cell_type": "markdown",
   "id": "298a821b",
   "metadata": {},
   "source": [
    "### Finding similar users"
   ]
  },
  {
   "cell_type": "markdown",
   "id": "80220f60",
   "metadata": {},
   "source": [
    "Since the central idea of Collaborative Filtering is that users who have shown similar taste in the past are likely to show similar taste in the future, we need to find users that are similar to current user Toby.\n",
    "\n",
    "We again employ cosine similarity. First, we reshape the current user profile required by the pairwise version of the **cosine_similarity** function:"
   ]
  },
  {
   "cell_type": "code",
   "execution_count": 6,
   "id": "293eaeb7",
   "metadata": {},
   "outputs": [],
   "source": [
    "from sklearn.metrics.pairwise import cosine_similarity\n",
    "\n",
    "similarities = cosine_similarity(ratings._get_numeric_data(), current_user_profile.values.reshape(1,-1))"
   ]
  },
  {
   "cell_type": "markdown",
   "id": "e13fd02c",
   "metadata": {},
   "source": [
    "Second, we add the similarity scores to our DataFrame:"
   ]
  },
  {
   "cell_type": "code",
   "execution_count": 13,
   "id": "7ef3017d",
   "metadata": {},
   "outputs": [
    {
     "data": {
      "text/plain": [
       "(1, 6)"
      ]
     },
     "execution_count": 13,
     "metadata": {},
     "output_type": "execute_result"
    }
   ],
   "source": [
    "current_user_profile.values.reshape(1,-1).shape"
   ]
  },
  {
   "cell_type": "code",
   "execution_count": null,
   "id": "8c05e9fe",
   "metadata": {},
   "outputs": [],
   "source": []
  },
  {
   "cell_type": "code",
   "execution_count": 12,
   "id": "a6ded01e",
   "metadata": {},
   "outputs": [
    {
     "data": {
      "text/plain": [
       "(7, 6)"
      ]
     },
     "execution_count": 12,
     "metadata": {},
     "output_type": "execute_result"
    }
   ],
   "source": [
    "ratings._get_numeric_data().shape"
   ]
  },
  {
   "cell_type": "code",
   "execution_count": 14,
   "id": "db346045",
   "metadata": {},
   "outputs": [
    {
     "data": {
      "text/plain": [
       "(7, 1)"
      ]
     },
     "execution_count": 14,
     "metadata": {},
     "output_type": "execute_result"
    }
   ],
   "source": [
    "similarities.shape"
   ]
  },
  {
   "cell_type": "code",
   "execution_count": null,
   "id": "17565616",
   "metadata": {},
   "outputs": [],
   "source": []
  },
  {
   "cell_type": "code",
   "execution_count": null,
   "id": "0c204f4b",
   "metadata": {},
   "outputs": [],
   "source": []
  },
  {
   "cell_type": "code",
   "execution_count": null,
   "id": "ca5c7540",
   "metadata": {},
   "outputs": [],
   "source": []
  },
  {
   "cell_type": "code",
   "execution_count": null,
   "id": "1ade634c",
   "metadata": {},
   "outputs": [],
   "source": []
  },
  {
   "cell_type": "code",
   "execution_count": 41,
   "id": "b0b38564",
   "metadata": {},
   "outputs": [],
   "source": [
    "ratings['Similarity'] = similarities"
   ]
  },
  {
   "cell_type": "markdown",
   "id": "a1d7c489",
   "metadata": {},
   "source": [
    "And we can sort the data set using the these similarity scores:"
   ]
  },
  {
   "cell_type": "code",
   "execution_count": 42,
   "id": "303fdd31",
   "metadata": {},
   "outputs": [
    {
     "data": {
      "text/html": [
       "<div>\n",
       "<style scoped>\n",
       "    .dataframe tbody tr th:only-of-type {\n",
       "        vertical-align: middle;\n",
       "    }\n",
       "\n",
       "    .dataframe tbody tr th {\n",
       "        vertical-align: top;\n",
       "    }\n",
       "\n",
       "    .dataframe thead th {\n",
       "        text-align: right;\n",
       "    }\n",
       "</style>\n",
       "<table border=\"1\" class=\"dataframe\">\n",
       "  <thead>\n",
       "    <tr style=\"text-align: right;\">\n",
       "      <th></th>\n",
       "      <th>User</th>\n",
       "      <th>Lady in the Water</th>\n",
       "      <th>Snakes on a Plane</th>\n",
       "      <th>Just My Luck</th>\n",
       "      <th>Superman Returns</th>\n",
       "      <th>You, Me and Dupree</th>\n",
       "      <th>The Night Listener</th>\n",
       "      <th>Similarity</th>\n",
       "    </tr>\n",
       "  </thead>\n",
       "  <tbody>\n",
       "    <tr>\n",
       "      <th>6</th>\n",
       "      <td>Toby</td>\n",
       "      <td>0.0</td>\n",
       "      <td>4.5</td>\n",
       "      <td>0.0</td>\n",
       "      <td>4.0</td>\n",
       "      <td>1.0</td>\n",
       "      <td>0.0</td>\n",
       "      <td>1.000000</td>\n",
       "    </tr>\n",
       "    <tr>\n",
       "      <th>5</th>\n",
       "      <td>Jack Matthews</td>\n",
       "      <td>3.0</td>\n",
       "      <td>4.0</td>\n",
       "      <td>0.0</td>\n",
       "      <td>5.0</td>\n",
       "      <td>3.5</td>\n",
       "      <td>3.0</td>\n",
       "      <td>0.806716</td>\n",
       "    </tr>\n",
       "    <tr>\n",
       "      <th>1</th>\n",
       "      <td>Gene Seymour</td>\n",
       "      <td>3.0</td>\n",
       "      <td>3.5</td>\n",
       "      <td>1.5</td>\n",
       "      <td>5.0</td>\n",
       "      <td>3.5</td>\n",
       "      <td>3.0</td>\n",
       "      <td>0.771527</td>\n",
       "    </tr>\n",
       "    <tr>\n",
       "      <th>4</th>\n",
       "      <td>Mick LaSalle</td>\n",
       "      <td>3.0</td>\n",
       "      <td>4.0</td>\n",
       "      <td>2.0</td>\n",
       "      <td>3.0</td>\n",
       "      <td>2.0</td>\n",
       "      <td>3.0</td>\n",
       "      <td>0.737255</td>\n",
       "    </tr>\n",
       "    <tr>\n",
       "      <th>0</th>\n",
       "      <td>Lisa Rose</td>\n",
       "      <td>2.5</td>\n",
       "      <td>3.5</td>\n",
       "      <td>3.0</td>\n",
       "      <td>3.5</td>\n",
       "      <td>2.5</td>\n",
       "      <td>3.0</td>\n",
       "      <td>0.715365</td>\n",
       "    </tr>\n",
       "    <tr>\n",
       "      <th>3</th>\n",
       "      <td>Claudia Puig</td>\n",
       "      <td>0.0</td>\n",
       "      <td>3.5</td>\n",
       "      <td>3.0</td>\n",
       "      <td>4.0</td>\n",
       "      <td>2.5</td>\n",
       "      <td>4.5</td>\n",
       "      <td>0.705100</td>\n",
       "    </tr>\n",
       "    <tr>\n",
       "      <th>2</th>\n",
       "      <td>Michael Phillips</td>\n",
       "      <td>2.5</td>\n",
       "      <td>3.0</td>\n",
       "      <td>0.0</td>\n",
       "      <td>3.5</td>\n",
       "      <td>0.0</td>\n",
       "      <td>4.0</td>\n",
       "      <td>0.687246</td>\n",
       "    </tr>\n",
       "  </tbody>\n",
       "</table>\n",
       "</div>"
      ],
      "text/plain": [
       "               User  Lady in the Water  Snakes on a Plane  Just My Luck  \\\n",
       "6              Toby                0.0                4.5           0.0   \n",
       "5     Jack Matthews                3.0                4.0           0.0   \n",
       "1      Gene Seymour                3.0                3.5           1.5   \n",
       "4      Mick LaSalle                3.0                4.0           2.0   \n",
       "0         Lisa Rose                2.5                3.5           3.0   \n",
       "3      Claudia Puig                0.0                3.5           3.0   \n",
       "2  Michael Phillips                2.5                3.0           0.0   \n",
       "\n",
       "   Superman Returns  You, Me and Dupree  The Night Listener  Similarity  \n",
       "6               4.0                 1.0                 0.0    1.000000  \n",
       "5               5.0                 3.5                 3.0    0.806716  \n",
       "1               5.0                 3.5                 3.0    0.771527  \n",
       "4               3.0                 2.0                 3.0    0.737255  \n",
       "0               3.5                 2.5                 3.0    0.715365  \n",
       "3               4.0                 2.5                 4.5    0.705100  \n",
       "2               3.5                 0.0                 4.0    0.687246  "
      ]
     },
     "execution_count": 42,
     "metadata": {},
     "output_type": "execute_result"
    }
   ],
   "source": [
    "ratings.sort_values(by=['Similarity'], ascending=False)"
   ]
  },
  {
   "cell_type": "markdown",
   "id": "ed220552",
   "metadata": {},
   "source": [
    "### Predicting ratings for unseen movies\n",
    "\n",
    "To predict user ratings for unseen movies, we first need to find out which movies the current user did not watch yet (i.e., corresponding ratings should contain a value of zero):"
   ]
  },
  {
   "cell_type": "code",
   "execution_count": 43,
   "id": "2fa8c3a9",
   "metadata": {},
   "outputs": [],
   "source": [
    "movies = ratings.columns[1:-1] # Select columns that refer to movie titles"
   ]
  },
  {
   "cell_type": "code",
   "execution_count": 44,
   "id": "6ce45ad1",
   "metadata": {},
   "outputs": [
    {
     "data": {
      "text/plain": [
       "Index(['Lady in the Water', 'Snakes on a Plane', 'Just My Luck',\n",
       "       'Superman Returns', 'You, Me and Dupree', 'The Night Listener'],\n",
       "      dtype='object')"
      ]
     },
     "execution_count": 44,
     "metadata": {},
     "output_type": "execute_result"
    }
   ],
   "source": [
    "movies"
   ]
  },
  {
   "cell_type": "markdown",
   "id": "6d20008f",
   "metadata": {},
   "source": [
    "To facilitate our approach, we create a view of **current_user_profile** that contains only movie columns:"
   ]
  },
  {
   "cell_type": "code",
   "execution_count": 45,
   "id": "fa0f889d",
   "metadata": {},
   "outputs": [],
   "source": [
    "user_movie_view = current_user_profile[movies]"
   ]
  },
  {
   "cell_type": "code",
   "execution_count": 46,
   "id": "4d75d8b6",
   "metadata": {},
   "outputs": [
    {
     "data": {
      "text/html": [
       "<div>\n",
       "<style scoped>\n",
       "    .dataframe tbody tr th:only-of-type {\n",
       "        vertical-align: middle;\n",
       "    }\n",
       "\n",
       "    .dataframe tbody tr th {\n",
       "        vertical-align: top;\n",
       "    }\n",
       "\n",
       "    .dataframe thead th {\n",
       "        text-align: right;\n",
       "    }\n",
       "</style>\n",
       "<table border=\"1\" class=\"dataframe\">\n",
       "  <thead>\n",
       "    <tr style=\"text-align: right;\">\n",
       "      <th></th>\n",
       "      <th>Lady in the Water</th>\n",
       "      <th>Snakes on a Plane</th>\n",
       "      <th>Just My Luck</th>\n",
       "      <th>Superman Returns</th>\n",
       "      <th>You, Me and Dupree</th>\n",
       "      <th>The Night Listener</th>\n",
       "    </tr>\n",
       "  </thead>\n",
       "  <tbody>\n",
       "    <tr>\n",
       "      <th>6</th>\n",
       "      <td>0.0</td>\n",
       "      <td>4.5</td>\n",
       "      <td>0.0</td>\n",
       "      <td>4.0</td>\n",
       "      <td>1.0</td>\n",
       "      <td>0.0</td>\n",
       "    </tr>\n",
       "  </tbody>\n",
       "</table>\n",
       "</div>"
      ],
      "text/plain": [
       "   Lady in the Water  Snakes on a Plane  Just My Luck  Superman Returns  \\\n",
       "6                0.0                4.5           0.0               4.0   \n",
       "\n",
       "   You, Me and Dupree  The Night Listener  \n",
       "6                 1.0                 0.0  "
      ]
     },
     "execution_count": 46,
     "metadata": {},
     "output_type": "execute_result"
    }
   ],
   "source": [
    "user_movie_view"
   ]
  },
  {
   "cell_type": "markdown",
   "id": "cb257959",
   "metadata": {},
   "source": [
    "We use the view to filter out movies that already contain a rate given by the current user. We use the **any()** method to return all columns with a non-zero value and apply these columns on top of the collection of movies:"
   ]
  },
  {
   "cell_type": "code",
   "execution_count": 47,
   "id": "e714579f",
   "metadata": {},
   "outputs": [],
   "source": [
    "unseen_movies = movies[(user_movie_view == 0).all()]"
   ]
  },
  {
   "cell_type": "code",
   "execution_count": 48,
   "id": "be07a921",
   "metadata": {},
   "outputs": [
    {
     "name": "stdout",
     "output_type": "stream",
     "text": [
      "Index(['Lady in the Water', 'Just My Luck', 'The Night Listener'], dtype='object')\n"
     ]
    }
   ],
   "source": [
    "print(unseen_movies)"
   ]
  },
  {
   "cell_type": "markdown",
   "id": "ce69c83e",
   "metadata": {},
   "source": [
    "A common procedure to predict user ratings in Collaborative Filtering is\n",
    "to use a weighted average score. This score takes into consideration not\n",
    "only the rating given by other users, but also considers how similar\n",
    "these users are with regard to the current user. Intuitively, this\n",
    "approach gives more importance to the opinion of users that are more\n",
    "similar to the current user."
   ]
  },
  {
   "cell_type": "markdown",
   "id": "7ab6a583",
   "metadata": {},
   "source": [
    "Let's create a new DataFrame that will store the ratings of other users weighted by their similarity with the current user:"
   ]
  },
  {
   "cell_type": "code",
   "execution_count": 49,
   "id": "62074b5d",
   "metadata": {},
   "outputs": [],
   "source": [
    "rec_scores = pd.DataFrame()"
   ]
  },
  {
   "cell_type": "markdown",
   "id": "7d2fec09",
   "metadata": {},
   "source": [
    "Since it does not make sense to use the current user ratings in this process, we have to remove them from **rec_scores**:"
   ]
  },
  {
   "cell_type": "code",
   "execution_count": 50,
   "id": "45268436",
   "metadata": {},
   "outputs": [],
   "source": [
    "ratings_without_current_user = ratings.drop(index=6) # The index 6 corresponds to Toby in the original Data Frame"
   ]
  },
  {
   "cell_type": "code",
   "execution_count": 51,
   "id": "486669bd",
   "metadata": {},
   "outputs": [
    {
     "data": {
      "text/html": [
       "<div>\n",
       "<style scoped>\n",
       "    .dataframe tbody tr th:only-of-type {\n",
       "        vertical-align: middle;\n",
       "    }\n",
       "\n",
       "    .dataframe tbody tr th {\n",
       "        vertical-align: top;\n",
       "    }\n",
       "\n",
       "    .dataframe thead th {\n",
       "        text-align: right;\n",
       "    }\n",
       "</style>\n",
       "<table border=\"1\" class=\"dataframe\">\n",
       "  <thead>\n",
       "    <tr style=\"text-align: right;\">\n",
       "      <th></th>\n",
       "      <th>Lady in the Water</th>\n",
       "      <th>Just My Luck</th>\n",
       "      <th>The Night Listener</th>\n",
       "    </tr>\n",
       "  </thead>\n",
       "  <tbody>\n",
       "    <tr>\n",
       "      <th>0</th>\n",
       "      <td>1.788414</td>\n",
       "      <td>2.146096</td>\n",
       "      <td>2.146096</td>\n",
       "    </tr>\n",
       "    <tr>\n",
       "      <th>1</th>\n",
       "      <td>2.314582</td>\n",
       "      <td>1.157291</td>\n",
       "      <td>2.314582</td>\n",
       "    </tr>\n",
       "    <tr>\n",
       "      <th>2</th>\n",
       "      <td>1.718114</td>\n",
       "      <td>0.000000</td>\n",
       "      <td>2.748983</td>\n",
       "    </tr>\n",
       "    <tr>\n",
       "      <th>3</th>\n",
       "      <td>0.000000</td>\n",
       "      <td>2.115299</td>\n",
       "      <td>3.172949</td>\n",
       "    </tr>\n",
       "    <tr>\n",
       "      <th>4</th>\n",
       "      <td>2.211765</td>\n",
       "      <td>1.474510</td>\n",
       "      <td>2.211765</td>\n",
       "    </tr>\n",
       "    <tr>\n",
       "      <th>5</th>\n",
       "      <td>2.420147</td>\n",
       "      <td>0.000000</td>\n",
       "      <td>2.420147</td>\n",
       "    </tr>\n",
       "  </tbody>\n",
       "</table>\n",
       "</div>"
      ],
      "text/plain": [
       "   Lady in the Water  Just My Luck  The Night Listener\n",
       "0           1.788414      2.146096            2.146096\n",
       "1           2.314582      1.157291            2.314582\n",
       "2           1.718114      0.000000            2.748983\n",
       "3           0.000000      2.115299            3.172949\n",
       "4           2.211765      1.474510            2.211765\n",
       "5           2.420147      0.000000            2.420147"
      ]
     },
     "execution_count": 51,
     "metadata": {},
     "output_type": "execute_result"
    }
   ],
   "source": [
    "for mov in unseen_movies:\n",
    "    rec_scores[mov] = ratings_without_current_user[mov] * ratings_without_current_user['Similarity']\n",
    "    \n",
    "rec_scores"
   ]
  },
  {
   "cell_type": "markdown",
   "id": "61234b95",
   "metadata": {},
   "source": [
    "We also add the original similarity scores to **rec_scores**:"
   ]
  },
  {
   "cell_type": "code",
   "execution_count": 52,
   "id": "186775d8",
   "metadata": {},
   "outputs": [],
   "source": [
    "rec_scores['Similarity'] = ratings_without_current_user['Similarity']"
   ]
  },
  {
   "cell_type": "markdown",
   "id": "7acc0772",
   "metadata": {},
   "source": [
    "The **rec_scores** DataFrame shows the rating of other users weighted by their similarity. Using these scores, we can provide recommendations in accordance with the following idea: A user who is more similar to Toby will contribute more to the overall score than a user who is different from him."
   ]
  },
  {
   "cell_type": "code",
   "execution_count": 53,
   "id": "96e064a8",
   "metadata": {},
   "outputs": [
    {
     "data": {
      "text/html": [
       "<div>\n",
       "<style scoped>\n",
       "    .dataframe tbody tr th:only-of-type {\n",
       "        vertical-align: middle;\n",
       "    }\n",
       "\n",
       "    .dataframe tbody tr th {\n",
       "        vertical-align: top;\n",
       "    }\n",
       "\n",
       "    .dataframe thead th {\n",
       "        text-align: right;\n",
       "    }\n",
       "</style>\n",
       "<table border=\"1\" class=\"dataframe\">\n",
       "  <thead>\n",
       "    <tr style=\"text-align: right;\">\n",
       "      <th></th>\n",
       "      <th>Lady in the Water</th>\n",
       "      <th>Just My Luck</th>\n",
       "      <th>The Night Listener</th>\n",
       "      <th>Similarity</th>\n",
       "    </tr>\n",
       "  </thead>\n",
       "  <tbody>\n",
       "    <tr>\n",
       "      <th>0</th>\n",
       "      <td>1.788414</td>\n",
       "      <td>2.146096</td>\n",
       "      <td>2.146096</td>\n",
       "      <td>0.715365</td>\n",
       "    </tr>\n",
       "    <tr>\n",
       "      <th>1</th>\n",
       "      <td>2.314582</td>\n",
       "      <td>1.157291</td>\n",
       "      <td>2.314582</td>\n",
       "      <td>0.771527</td>\n",
       "    </tr>\n",
       "    <tr>\n",
       "      <th>2</th>\n",
       "      <td>1.718114</td>\n",
       "      <td>0.000000</td>\n",
       "      <td>2.748983</td>\n",
       "      <td>0.687246</td>\n",
       "    </tr>\n",
       "    <tr>\n",
       "      <th>3</th>\n",
       "      <td>0.000000</td>\n",
       "      <td>2.115299</td>\n",
       "      <td>3.172949</td>\n",
       "      <td>0.705100</td>\n",
       "    </tr>\n",
       "    <tr>\n",
       "      <th>4</th>\n",
       "      <td>2.211765</td>\n",
       "      <td>1.474510</td>\n",
       "      <td>2.211765</td>\n",
       "      <td>0.737255</td>\n",
       "    </tr>\n",
       "    <tr>\n",
       "      <th>5</th>\n",
       "      <td>2.420147</td>\n",
       "      <td>0.000000</td>\n",
       "      <td>2.420147</td>\n",
       "      <td>0.806716</td>\n",
       "    </tr>\n",
       "  </tbody>\n",
       "</table>\n",
       "</div>"
      ],
      "text/plain": [
       "   Lady in the Water  Just My Luck  The Night Listener  Similarity\n",
       "0           1.788414      2.146096            2.146096    0.715365\n",
       "1           2.314582      1.157291            2.314582    0.771527\n",
       "2           1.718114      0.000000            2.748983    0.687246\n",
       "3           0.000000      2.115299            3.172949    0.705100\n",
       "4           2.211765      1.474510            2.211765    0.737255\n",
       "5           2.420147      0.000000            2.420147    0.806716"
      ]
     },
     "execution_count": 53,
     "metadata": {},
     "output_type": "execute_result"
    }
   ],
   "source": [
    "rec_scores"
   ]
  },
  {
   "cell_type": "markdown",
   "id": "af1c8040",
   "metadata": {},
   "source": [
    "Now we can predict the rating for a movie not yet seen using the following formula:\n",
    "\n",
    "$R = \\frac{\\sum_{n}^{u=1}R_u \\cdot S_u}{\\sum_{u=1}^{n}S_u}$,\n",
    "\n",
    "where $R_u$ is the rating given by user $u$, and $S_u$ is the similarity between $u$ and the current user.\n",
    "\n",
    "Note that we divide weighted ratings by the sum of all the similarities of users that rated a movie. This is done to avoid that a movie reviewed by more people would have a bigger impact on the prediction."
   ]
  },
  {
   "cell_type": "markdown",
   "id": "b300a578",
   "metadata": {},
   "source": [
    "We compute the predictions as follows. First, we create a variable that will store the predicted scores:"
   ]
  },
  {
   "cell_type": "code",
   "execution_count": 54,
   "id": "667f7bbc",
   "metadata": {},
   "outputs": [],
   "source": [
    "predictions = []"
   ]
  },
  {
   "cell_type": "markdown",
   "id": "9269816c",
   "metadata": {},
   "source": [
    "Second, we iterate through the unseen movies and compute their average weighted ratings. Note that by using the **non_zero_scores** we consider only users that have actually rated the movie:"
   ]
  },
  {
   "cell_type": "code",
   "execution_count": 55,
   "id": "eaad9eee",
   "metadata": {},
   "outputs": [],
   "source": [
    "for mov in unseen_movies:\n",
    "    current_movie_scores = rec_scores[mov]\n",
    "    non_zero_scores = current_movie_scores[current_movie_scores > 0] # Consider only users that rated this movie\n",
    "    \n",
    "    sum_similarities = sum(rec_scores['Similarity'].iloc[non_zero_scores.index]) # Consider only users that rated this movie\n",
    "    \n",
    "    pred_score = sum(non_zero_scores)/sum_similarities\n",
    "    \n",
    "    predictions.append((pred_score, mov))"
   ]
  },
  {
   "cell_type": "code",
   "execution_count": 56,
   "id": "4fc50efd",
   "metadata": {},
   "outputs": [
    {
     "name": "stdout",
     "output_type": "stream",
     "text": [
      "[(2.8113811174320773, 'Lady in the Water'), (2.3532311480364974, 'Just My Luck'), (3.394486289405419, 'The Night Listener')]\n"
     ]
    }
   ],
   "source": [
    "print(predictions)"
   ]
  },
  {
   "cell_type": "markdown",
   "id": "014830ea",
   "metadata": {},
   "source": [
    "### Making recommendations"
   ]
  },
  {
   "cell_type": "markdown",
   "id": "9d8d773c",
   "metadata": {},
   "source": [
    "To make recommndations out of the predictions, we just have to rank the movies by their predicted scores, and we see which movies will be recommended to Toby:"
   ]
  },
  {
   "cell_type": "code",
   "execution_count": 57,
   "id": "5dfd92bc",
   "metadata": {},
   "outputs": [],
   "source": [
    "predictions.sort()\n",
    "predictions.reverse()"
   ]
  },
  {
   "cell_type": "code",
   "execution_count": 58,
   "id": "81682f20",
   "metadata": {},
   "outputs": [
    {
     "data": {
      "text/plain": [
       "[(3.394486289405419, 'The Night Listener'),\n",
       " (2.8113811174320773, 'Lady in the Water'),\n",
       " (2.3532311480364974, 'Just My Luck')]"
      ]
     },
     "execution_count": 58,
     "metadata": {},
     "output_type": "execute_result"
    }
   ],
   "source": [
    "predictions"
   ]
  },
  {
   "cell_type": "code",
   "execution_count": null,
   "id": "64d4a6dd",
   "metadata": {},
   "outputs": [],
   "source": []
  }
 ],
 "metadata": {
  "kernelspec": {
   "display_name": "Python 3 (ipykernel)",
   "language": "python",
   "name": "python3"
  },
  "language_info": {
   "codemirror_mode": {
    "name": "ipython",
    "version": 3
   },
   "file_extension": ".py",
   "mimetype": "text/x-python",
   "name": "python",
   "nbconvert_exporter": "python",
   "pygments_lexer": "ipython3",
   "version": "3.9.7"
  }
 },
 "nbformat": 4,
 "nbformat_minor": 5
}
